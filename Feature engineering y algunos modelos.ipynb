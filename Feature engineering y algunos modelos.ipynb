{
 "cells": [
  {
   "cell_type": "code",
   "execution_count": 585,
   "id": "353ffe59",
   "metadata": {},
   "outputs": [],
   "source": [
    "import pandas as pd\n",
    "import numpy as np\n",
    "from sklearn.discriminant_analysis import LinearDiscriminantAnalysis\n",
    "from sklearn.neighbors import KNeighborsClassifier\n",
    "from sklearn.naive_bayes import GaussianNB\n",
    "from sklearn.tree import DecisionTreeClassifier\n",
    "from sklearn.svm import SVC\n",
    "from sklearn.linear_model import LogisticRegression\n",
    "from sklearn.model_selection import train_test_split as tts\n",
    "from sklearn import metrics\n",
    "from sklearn.linear_model import LinearRegression as LinReg\n",
    "from sklearn.linear_model import Ridge, Lasso\n",
    "from sklearn.linear_model import SGDRegressor\n",
    "from sklearn.neighbors import KNeighborsRegressor\n",
    "from sklearn.ensemble import GradientBoostingRegressor\n",
    "from sklearn.svm import SVR\n",
    "from sklearn.ensemble import RandomForestRegressor\n",
    "from sklearn.feature_selection import RFECV\n",
    "import h2o\n",
    "from h2o.automl import H2OAutoML"
   ]
  },
  {
   "cell_type": "code",
   "execution_count": 596,
   "id": "1b55d08d",
   "metadata": {
    "scrolled": true
   },
   "outputs": [],
   "source": [
    "df= pd.read_csv('train.csv')"
   ]
  },
  {
   "cell_type": "code",
   "execution_count": 597,
   "id": "0b16e506",
   "metadata": {},
   "outputs": [],
   "source": [
    "df=df.set_index('id')"
   ]
  },
  {
   "cell_type": "code",
   "execution_count": 598,
   "id": "b4116ef4",
   "metadata": {},
   "outputs": [
    {
     "data": {
      "text/html": [
       "<div>\n",
       "<style scoped>\n",
       "    .dataframe tbody tr th:only-of-type {\n",
       "        vertical-align: middle;\n",
       "    }\n",
       "\n",
       "    .dataframe tbody tr th {\n",
       "        vertical-align: top;\n",
       "    }\n",
       "\n",
       "    .dataframe thead th {\n",
       "        text-align: right;\n",
       "    }\n",
       "</style>\n",
       "<table border=\"1\" class=\"dataframe\">\n",
       "  <thead>\n",
       "    <tr style=\"text-align: right;\">\n",
       "      <th></th>\n",
       "      <th>carat</th>\n",
       "      <th>cut</th>\n",
       "      <th>color</th>\n",
       "      <th>clarity</th>\n",
       "      <th>depth</th>\n",
       "      <th>table</th>\n",
       "      <th>x</th>\n",
       "      <th>y</th>\n",
       "      <th>z</th>\n",
       "      <th>price</th>\n",
       "    </tr>\n",
       "    <tr>\n",
       "      <th>id</th>\n",
       "      <th></th>\n",
       "      <th></th>\n",
       "      <th></th>\n",
       "      <th></th>\n",
       "      <th></th>\n",
       "      <th></th>\n",
       "      <th></th>\n",
       "      <th></th>\n",
       "      <th></th>\n",
       "      <th></th>\n",
       "    </tr>\n",
       "  </thead>\n",
       "  <tbody>\n",
       "    <tr>\n",
       "      <th>15018</th>\n",
       "      <td>0.33</td>\n",
       "      <td>Good</td>\n",
       "      <td>D</td>\n",
       "      <td>SI1</td>\n",
       "      <td>63.1</td>\n",
       "      <td>55.0</td>\n",
       "      <td>4.42</td>\n",
       "      <td>4.46</td>\n",
       "      <td>2.80</td>\n",
       "      <td>567</td>\n",
       "    </tr>\n",
       "    <tr>\n",
       "      <th>19435</th>\n",
       "      <td>0.75</td>\n",
       "      <td>Ideal</td>\n",
       "      <td>F</td>\n",
       "      <td>SI1</td>\n",
       "      <td>61.8</td>\n",
       "      <td>56.0</td>\n",
       "      <td>5.84</td>\n",
       "      <td>5.87</td>\n",
       "      <td>3.62</td>\n",
       "      <td>3336</td>\n",
       "    </tr>\n",
       "    <tr>\n",
       "      <th>13574</th>\n",
       "      <td>0.50</td>\n",
       "      <td>Good</td>\n",
       "      <td>F</td>\n",
       "      <td>SI2</td>\n",
       "      <td>57.7</td>\n",
       "      <td>62.0</td>\n",
       "      <td>5.22</td>\n",
       "      <td>5.18</td>\n",
       "      <td>3.00</td>\n",
       "      <td>926</td>\n",
       "    </tr>\n",
       "    <tr>\n",
       "      <th>19795</th>\n",
       "      <td>1.33</td>\n",
       "      <td>Ideal</td>\n",
       "      <td>J</td>\n",
       "      <td>VS1</td>\n",
       "      <td>61.3</td>\n",
       "      <td>57.0</td>\n",
       "      <td>7.08</td>\n",
       "      <td>7.11</td>\n",
       "      <td>4.35</td>\n",
       "      <td>5852</td>\n",
       "    </tr>\n",
       "    <tr>\n",
       "      <th>39322</th>\n",
       "      <td>0.51</td>\n",
       "      <td>Ideal</td>\n",
       "      <td>I</td>\n",
       "      <td>SI2</td>\n",
       "      <td>61.3</td>\n",
       "      <td>55.0</td>\n",
       "      <td>5.18</td>\n",
       "      <td>5.19</td>\n",
       "      <td>3.18</td>\n",
       "      <td>991</td>\n",
       "    </tr>\n",
       "    <tr>\n",
       "      <th>31683</th>\n",
       "      <td>0.59</td>\n",
       "      <td>Ideal</td>\n",
       "      <td>E</td>\n",
       "      <td>SI1</td>\n",
       "      <td>61.4</td>\n",
       "      <td>56.0</td>\n",
       "      <td>5.36</td>\n",
       "      <td>5.39</td>\n",
       "      <td>3.30</td>\n",
       "      <td>1664</td>\n",
       "    </tr>\n",
       "    <tr>\n",
       "      <th>17885</th>\n",
       "      <td>0.31</td>\n",
       "      <td>Very Good</td>\n",
       "      <td>E</td>\n",
       "      <td>SI1</td>\n",
       "      <td>63.0</td>\n",
       "      <td>59.0</td>\n",
       "      <td>4.26</td>\n",
       "      <td>4.31</td>\n",
       "      <td>2.70</td>\n",
       "      <td>544</td>\n",
       "    </tr>\n",
       "    <tr>\n",
       "      <th>33547</th>\n",
       "      <td>1.15</td>\n",
       "      <td>Ideal</td>\n",
       "      <td>G</td>\n",
       "      <td>VVS2</td>\n",
       "      <td>61.8</td>\n",
       "      <td>56.0</td>\n",
       "      <td>6.72</td>\n",
       "      <td>6.75</td>\n",
       "      <td>4.16</td>\n",
       "      <td>9457</td>\n",
       "    </tr>\n",
       "    <tr>\n",
       "      <th>33210</th>\n",
       "      <td>1.04</td>\n",
       "      <td>Premium</td>\n",
       "      <td>E</td>\n",
       "      <td>VS2</td>\n",
       "      <td>61.1</td>\n",
       "      <td>59.0</td>\n",
       "      <td>6.54</td>\n",
       "      <td>6.56</td>\n",
       "      <td>4.00</td>\n",
       "      <td>7047</td>\n",
       "    </tr>\n",
       "    <tr>\n",
       "      <th>36221</th>\n",
       "      <td>0.30</td>\n",
       "      <td>Good</td>\n",
       "      <td>F</td>\n",
       "      <td>SI2</td>\n",
       "      <td>63.5</td>\n",
       "      <td>57.0</td>\n",
       "      <td>4.22</td>\n",
       "      <td>4.25</td>\n",
       "      <td>2.69</td>\n",
       "      <td>394</td>\n",
       "    </tr>\n",
       "  </tbody>\n",
       "</table>\n",
       "</div>"
      ],
      "text/plain": [
       "       carat        cut color clarity  depth  table     x     y     z  price\n",
       "id                                                                          \n",
       "15018   0.33       Good     D     SI1   63.1   55.0  4.42  4.46  2.80    567\n",
       "19435   0.75      Ideal     F     SI1   61.8   56.0  5.84  5.87  3.62   3336\n",
       "13574   0.50       Good     F     SI2   57.7   62.0  5.22  5.18  3.00    926\n",
       "19795   1.33      Ideal     J     VS1   61.3   57.0  7.08  7.11  4.35   5852\n",
       "39322   0.51      Ideal     I     SI2   61.3   55.0  5.18  5.19  3.18    991\n",
       "31683   0.59      Ideal     E     SI1   61.4   56.0  5.36  5.39  3.30   1664\n",
       "17885   0.31  Very Good     E     SI1   63.0   59.0  4.26  4.31  2.70    544\n",
       "33547   1.15      Ideal     G    VVS2   61.8   56.0  6.72  6.75  4.16   9457\n",
       "33210   1.04    Premium     E     VS2   61.1   59.0  6.54  6.56  4.00   7047\n",
       "36221   0.30       Good     F     SI2   63.5   57.0  4.22  4.25  2.69    394"
      ]
     },
     "execution_count": 598,
     "metadata": {},
     "output_type": "execute_result"
    }
   ],
   "source": [
    "df.sample(10)"
   ]
  },
  {
   "cell_type": "code",
   "execution_count": 599,
   "id": "d0977a54",
   "metadata": {},
   "outputs": [
    {
     "data": {
      "text/plain": [
       "carat      0\n",
       "cut        0\n",
       "color      0\n",
       "clarity    0\n",
       "depth      0\n",
       "table      0\n",
       "x          0\n",
       "y          0\n",
       "z          0\n",
       "price      0\n",
       "dtype: int64"
      ]
     },
     "execution_count": 599,
     "metadata": {},
     "output_type": "execute_result"
    }
   ],
   "source": [
    "df.isnull().sum()"
   ]
  },
  {
   "cell_type": "code",
   "execution_count": 600,
   "id": "427e395e",
   "metadata": {},
   "outputs": [],
   "source": [
    "corr=df.corr()"
   ]
  },
  {
   "cell_type": "code",
   "execution_count": 601,
   "id": "37ccdd58",
   "metadata": {},
   "outputs": [
    {
     "name": "stderr",
     "output_type": "stream",
     "text": [
      "<ipython-input-601-2f759844c1a2>:4: FutureWarning: this method is deprecated in favour of `Styler.format(precision=..)`\n",
      "  (corr\n"
     ]
    },
    {
     "data": {
      "text/html": [
       "<style type=\"text/css\">\n",
       "#T_781f8_row0_col0, #T_781f8_row0_col1, #T_781f8_row0_col2, #T_781f8_row0_col3, #T_781f8_row0_col4, #T_781f8_row0_col5, #T_781f8_row0_col6, #T_781f8_row1_col1, #T_781f8_row1_col2, #T_781f8_row1_col3, #T_781f8_row1_col4, #T_781f8_row1_col5, #T_781f8_row1_col6, #T_781f8_row2_col2, #T_781f8_row2_col3, #T_781f8_row2_col4, #T_781f8_row2_col5, #T_781f8_row2_col6, #T_781f8_row3_col3, #T_781f8_row3_col4, #T_781f8_row3_col5, #T_781f8_row3_col6, #T_781f8_row4_col4, #T_781f8_row4_col5, #T_781f8_row4_col6, #T_781f8_row5_col5, #T_781f8_row5_col6, #T_781f8_row6_col6 {\n",
       "  background-color: #000000;\n",
       "  color: #f1f1f1;\n",
       "  background-color: #f1f1f1;\n",
       "}\n",
       "#T_781f8_row1_col0 {\n",
       "  background-color: #e0dbd8;\n",
       "  color: #000000;\n",
       "}\n",
       "#T_781f8_row2_col0, #T_781f8_row4_col2 {\n",
       "  background-color: #f1cdba;\n",
       "  color: #000000;\n",
       "}\n",
       "#T_781f8_row2_col1 {\n",
       "  background-color: #afcafc;\n",
       "  color: #000000;\n",
       "}\n",
       "#T_781f8_row3_col0, #T_781f8_row5_col0 {\n",
       "  background-color: #b8122a;\n",
       "  color: #f1f1f1;\n",
       "}\n",
       "#T_781f8_row3_col1, #T_781f8_row4_col1 {\n",
       "  background-color: #d9dce1;\n",
       "  color: #000000;\n",
       "}\n",
       "#T_781f8_row3_col2 {\n",
       "  background-color: #f2cbb7;\n",
       "  color: #000000;\n",
       "}\n",
       "#T_781f8_row4_col0 {\n",
       "  background-color: #ba162b;\n",
       "  color: #f1f1f1;\n",
       "}\n",
       "#T_781f8_row4_col3, #T_781f8_row5_col3 {\n",
       "  background-color: #b50927;\n",
       "  color: #f1f1f1;\n",
       "}\n",
       "#T_781f8_row5_col1 {\n",
       "  background-color: #e9d5cb;\n",
       "  color: #000000;\n",
       "}\n",
       "#T_781f8_row5_col2 {\n",
       "  background-color: #eed0c0;\n",
       "  color: #000000;\n",
       "}\n",
       "#T_781f8_row5_col4 {\n",
       "  background-color: #b70d28;\n",
       "  color: #f1f1f1;\n",
       "}\n",
       "#T_781f8_row6_col0 {\n",
       "  background-color: #c32e31;\n",
       "  color: #f1f1f1;\n",
       "}\n",
       "#T_781f8_row6_col1 {\n",
       "  background-color: #dbdcde;\n",
       "  color: #000000;\n",
       "}\n",
       "#T_781f8_row6_col2 {\n",
       "  background-color: #ecd3c5;\n",
       "  color: #000000;\n",
       "}\n",
       "#T_781f8_row6_col3 {\n",
       "  background-color: #c83836;\n",
       "  color: #f1f1f1;\n",
       "}\n",
       "#T_781f8_row6_col4, #T_781f8_row6_col5 {\n",
       "  background-color: #ca3b37;\n",
       "  color: #f1f1f1;\n",
       "}\n",
       "</style>\n",
       "<table id=\"T_781f8_\">\n",
       "  <thead>\n",
       "    <tr>\n",
       "      <th class=\"blank level0\" >&nbsp;</th>\n",
       "      <th class=\"col_heading level0 col0\" >carat</th>\n",
       "      <th class=\"col_heading level0 col1\" >depth</th>\n",
       "      <th class=\"col_heading level0 col2\" >table</th>\n",
       "      <th class=\"col_heading level0 col3\" >x</th>\n",
       "      <th class=\"col_heading level0 col4\" >y</th>\n",
       "      <th class=\"col_heading level0 col5\" >z</th>\n",
       "      <th class=\"col_heading level0 col6\" >price</th>\n",
       "    </tr>\n",
       "  </thead>\n",
       "  <tbody>\n",
       "    <tr>\n",
       "      <th id=\"T_781f8_level0_row0\" class=\"row_heading level0 row0\" >carat</th>\n",
       "      <td id=\"T_781f8_row0_col0\" class=\"data row0 col0\" >nan</td>\n",
       "      <td id=\"T_781f8_row0_col1\" class=\"data row0 col1\" >nan</td>\n",
       "      <td id=\"T_781f8_row0_col2\" class=\"data row0 col2\" >nan</td>\n",
       "      <td id=\"T_781f8_row0_col3\" class=\"data row0 col3\" >nan</td>\n",
       "      <td id=\"T_781f8_row0_col4\" class=\"data row0 col4\" >nan</td>\n",
       "      <td id=\"T_781f8_row0_col5\" class=\"data row0 col5\" >nan</td>\n",
       "      <td id=\"T_781f8_row0_col6\" class=\"data row0 col6\" >nan</td>\n",
       "    </tr>\n",
       "    <tr>\n",
       "      <th id=\"T_781f8_level0_row1\" class=\"row_heading level0 row1\" >depth</th>\n",
       "      <td id=\"T_781f8_row1_col0\" class=\"data row1 col0\" >0.03</td>\n",
       "      <td id=\"T_781f8_row1_col1\" class=\"data row1 col1\" >nan</td>\n",
       "      <td id=\"T_781f8_row1_col2\" class=\"data row1 col2\" >nan</td>\n",
       "      <td id=\"T_781f8_row1_col3\" class=\"data row1 col3\" >nan</td>\n",
       "      <td id=\"T_781f8_row1_col4\" class=\"data row1 col4\" >nan</td>\n",
       "      <td id=\"T_781f8_row1_col5\" class=\"data row1 col5\" >nan</td>\n",
       "      <td id=\"T_781f8_row1_col6\" class=\"data row1 col6\" >nan</td>\n",
       "    </tr>\n",
       "    <tr>\n",
       "      <th id=\"T_781f8_level0_row2\" class=\"row_heading level0 row2\" >table</th>\n",
       "      <td id=\"T_781f8_row2_col0\" class=\"data row2 col0\" >0.18</td>\n",
       "      <td id=\"T_781f8_row2_col1\" class=\"data row2 col1\" >-0.30</td>\n",
       "      <td id=\"T_781f8_row2_col2\" class=\"data row2 col2\" >nan</td>\n",
       "      <td id=\"T_781f8_row2_col3\" class=\"data row2 col3\" >nan</td>\n",
       "      <td id=\"T_781f8_row2_col4\" class=\"data row2 col4\" >nan</td>\n",
       "      <td id=\"T_781f8_row2_col5\" class=\"data row2 col5\" >nan</td>\n",
       "      <td id=\"T_781f8_row2_col6\" class=\"data row2 col6\" >nan</td>\n",
       "    </tr>\n",
       "    <tr>\n",
       "      <th id=\"T_781f8_level0_row3\" class=\"row_heading level0 row3\" >x</th>\n",
       "      <td id=\"T_781f8_row3_col0\" class=\"data row3 col0\" >0.98</td>\n",
       "      <td id=\"T_781f8_row3_col1\" class=\"data row3 col1\" >-0.03</td>\n",
       "      <td id=\"T_781f8_row3_col2\" class=\"data row3 col2\" >0.20</td>\n",
       "      <td id=\"T_781f8_row3_col3\" class=\"data row3 col3\" >nan</td>\n",
       "      <td id=\"T_781f8_row3_col4\" class=\"data row3 col4\" >nan</td>\n",
       "      <td id=\"T_781f8_row3_col5\" class=\"data row3 col5\" >nan</td>\n",
       "      <td id=\"T_781f8_row3_col6\" class=\"data row3 col6\" >nan</td>\n",
       "    </tr>\n",
       "    <tr>\n",
       "      <th id=\"T_781f8_level0_row4\" class=\"row_heading level0 row4\" >y</th>\n",
       "      <td id=\"T_781f8_row4_col0\" class=\"data row4 col0\" >0.97</td>\n",
       "      <td id=\"T_781f8_row4_col1\" class=\"data row4 col1\" >-0.03</td>\n",
       "      <td id=\"T_781f8_row4_col2\" class=\"data row4 col2\" >0.19</td>\n",
       "      <td id=\"T_781f8_row4_col3\" class=\"data row4 col3\" >0.99</td>\n",
       "      <td id=\"T_781f8_row4_col4\" class=\"data row4 col4\" >nan</td>\n",
       "      <td id=\"T_781f8_row4_col5\" class=\"data row4 col5\" >nan</td>\n",
       "      <td id=\"T_781f8_row4_col6\" class=\"data row4 col6\" >nan</td>\n",
       "    </tr>\n",
       "    <tr>\n",
       "      <th id=\"T_781f8_level0_row5\" class=\"row_heading level0 row5\" >z</th>\n",
       "      <td id=\"T_781f8_row5_col0\" class=\"data row5 col0\" >0.97</td>\n",
       "      <td id=\"T_781f8_row5_col1\" class=\"data row5 col1\" >0.09</td>\n",
       "      <td id=\"T_781f8_row5_col2\" class=\"data row5 col2\" >0.15</td>\n",
       "      <td id=\"T_781f8_row5_col3\" class=\"data row5 col3\" >0.99</td>\n",
       "      <td id=\"T_781f8_row5_col4\" class=\"data row5 col4\" >0.98</td>\n",
       "      <td id=\"T_781f8_row5_col5\" class=\"data row5 col5\" >nan</td>\n",
       "      <td id=\"T_781f8_row5_col6\" class=\"data row5 col6\" >nan</td>\n",
       "    </tr>\n",
       "    <tr>\n",
       "      <th id=\"T_781f8_level0_row6\" class=\"row_heading level0 row6\" >price</th>\n",
       "      <td id=\"T_781f8_row6_col0\" class=\"data row6 col0\" >0.92</td>\n",
       "      <td id=\"T_781f8_row6_col1\" class=\"data row6 col1\" >-0.02</td>\n",
       "      <td id=\"T_781f8_row6_col2\" class=\"data row6 col2\" >0.13</td>\n",
       "      <td id=\"T_781f8_row6_col3\" class=\"data row6 col3\" >0.88</td>\n",
       "      <td id=\"T_781f8_row6_col4\" class=\"data row6 col4\" >0.88</td>\n",
       "      <td id=\"T_781f8_row6_col5\" class=\"data row6 col5\" >0.88</td>\n",
       "      <td id=\"T_781f8_row6_col6\" class=\"data row6 col6\" >nan</td>\n",
       "    </tr>\n",
       "  </tbody>\n",
       "</table>\n"
      ],
      "text/plain": [
       "<pandas.io.formats.style.Styler at 0x7f7d65491a60>"
      ]
     },
     "execution_count": 601,
     "metadata": {},
     "output_type": "execute_result"
    }
   ],
   "source": [
    "mask = np.zeros_like(corr, dtype=bool)\n",
    "mask[np.triu_indices_from(mask)] = True\n",
    "corr[mask] = np.nan\n",
    "(corr\n",
    " .style\n",
    " .background_gradient(cmap='coolwarm', axis=None, vmin=-1, vmax=1)\n",
    " .highlight_null(null_color='#f1f1f1') \n",
    " .set_precision(2))"
   ]
  },
  {
   "cell_type": "code",
   "execution_count": 602,
   "id": "03c8560b",
   "metadata": {},
   "outputs": [
    {
     "data": {
      "text/plain": [
       "SI1     9746\n",
       "VS2     9175\n",
       "SI2     6912\n",
       "VS1     6137\n",
       "VVS2    3822\n",
       "VVS1    2732\n",
       "IF      1367\n",
       "I1       564\n",
       "Name: clarity, dtype: int64"
      ]
     },
     "execution_count": 602,
     "metadata": {},
     "output_type": "execute_result"
    }
   ],
   "source": [
    "df.clarity.value_counts()"
   ]
  },
  {
   "cell_type": "code",
   "execution_count": 603,
   "id": "1c38e2b5",
   "metadata": {},
   "outputs": [],
   "source": [
    "def clarity(x):\n",
    "    if x=='I1':\n",
    "        return 1\n",
    "    if x=='SI2':\n",
    "        return 2\n",
    "    if x=='SI1':\n",
    "        return 3\n",
    "    if x=='VS2':\n",
    "        return 4\n",
    "    if x=='VS1':\n",
    "        return 5\n",
    "    if x=='VVS2':\n",
    "        return 6\n",
    "    if x=='VVS1':\n",
    "        return 7\n",
    "    if x=='IF':\n",
    "        return 8"
   ]
  },
  {
   "cell_type": "code",
   "execution_count": 604,
   "id": "0aa13787",
   "metadata": {},
   "outputs": [],
   "source": [
    "df.clarity=df.clarity.apply(clarity)"
   ]
  },
  {
   "cell_type": "code",
   "execution_count": 605,
   "id": "284ef15d",
   "metadata": {},
   "outputs": [
    {
     "data": {
      "text/plain": [
       "Ideal        16193\n",
       "Premium      10301\n",
       "Very Good     9030\n",
       "Good          3710\n",
       "Fair          1221\n",
       "Name: cut, dtype: int64"
      ]
     },
     "execution_count": 605,
     "metadata": {},
     "output_type": "execute_result"
    }
   ],
   "source": [
    "df.cut.value_counts()"
   ]
  },
  {
   "cell_type": "code",
   "execution_count": 606,
   "id": "1e1e4dda",
   "metadata": {},
   "outputs": [],
   "source": [
    "def cut(x):\n",
    "    if x=='Fair':\n",
    "        return 5\n",
    "    if x=='Good':\n",
    "        return 4\n",
    "    if x=='Very Good':\n",
    "        return 3\n",
    "    if x=='Premium':\n",
    "        return 2\n",
    "    if x=='Ideal':\n",
    "        return 1\n"
   ]
  },
  {
   "cell_type": "code",
   "execution_count": 607,
   "id": "c70c4255",
   "metadata": {},
   "outputs": [],
   "source": [
    "df.cut= df.cut.apply(cut)"
   ]
  },
  {
   "cell_type": "code",
   "execution_count": 608,
   "id": "9683650d",
   "metadata": {},
   "outputs": [
    {
     "data": {
      "text/plain": [
       "array(['G', 'H', 'F', 'J', 'E', 'I', 'D'], dtype=object)"
      ]
     },
     "execution_count": 608,
     "metadata": {},
     "output_type": "execute_result"
    }
   ],
   "source": [
    "df.color.unique()"
   ]
  },
  {
   "cell_type": "code",
   "execution_count": 609,
   "id": "8c52e1e8",
   "metadata": {},
   "outputs": [],
   "source": [
    "def color(x):\n",
    "    if x=='J':\n",
    "        return 7\n",
    "    if x=='I':\n",
    "        return 6\n",
    "    if x=='H':\n",
    "        return 5\n",
    "    if x=='G':\n",
    "        return 4\n",
    "    if x=='F':\n",
    "        return 3\n",
    "    if x=='E':\n",
    "        return 2\n",
    "    if x=='D':\n",
    "        return 1"
   ]
  },
  {
   "cell_type": "code",
   "execution_count": 610,
   "id": "777a76d9",
   "metadata": {},
   "outputs": [],
   "source": [
    "df.color=df.color.apply(color)"
   ]
  },
  {
   "cell_type": "code",
   "execution_count": 611,
   "id": "9796e796",
   "metadata": {},
   "outputs": [
    {
     "data": {
      "text/html": [
       "<div>\n",
       "<style scoped>\n",
       "    .dataframe tbody tr th:only-of-type {\n",
       "        vertical-align: middle;\n",
       "    }\n",
       "\n",
       "    .dataframe tbody tr th {\n",
       "        vertical-align: top;\n",
       "    }\n",
       "\n",
       "    .dataframe thead th {\n",
       "        text-align: right;\n",
       "    }\n",
       "</style>\n",
       "<table border=\"1\" class=\"dataframe\">\n",
       "  <thead>\n",
       "    <tr style=\"text-align: right;\">\n",
       "      <th></th>\n",
       "      <th>carat</th>\n",
       "      <th>cut</th>\n",
       "      <th>color</th>\n",
       "      <th>clarity</th>\n",
       "      <th>depth</th>\n",
       "      <th>table</th>\n",
       "      <th>x</th>\n",
       "      <th>y</th>\n",
       "      <th>z</th>\n",
       "      <th>price</th>\n",
       "    </tr>\n",
       "    <tr>\n",
       "      <th>id</th>\n",
       "      <th></th>\n",
       "      <th></th>\n",
       "      <th></th>\n",
       "      <th></th>\n",
       "      <th></th>\n",
       "      <th></th>\n",
       "      <th></th>\n",
       "      <th></th>\n",
       "      <th></th>\n",
       "      <th></th>\n",
       "    </tr>\n",
       "  </thead>\n",
       "  <tbody>\n",
       "    <tr>\n",
       "      <th>0</th>\n",
       "      <td>1.14</td>\n",
       "      <td>1</td>\n",
       "      <td>4</td>\n",
       "      <td>6</td>\n",
       "      <td>61.0</td>\n",
       "      <td>56.0</td>\n",
       "      <td>6.74</td>\n",
       "      <td>6.76</td>\n",
       "      <td>4.12</td>\n",
       "      <td>9013</td>\n",
       "    </tr>\n",
       "    <tr>\n",
       "      <th>1</th>\n",
       "      <td>0.76</td>\n",
       "      <td>1</td>\n",
       "      <td>5</td>\n",
       "      <td>4</td>\n",
       "      <td>62.7</td>\n",
       "      <td>57.0</td>\n",
       "      <td>5.86</td>\n",
       "      <td>5.82</td>\n",
       "      <td>3.66</td>\n",
       "      <td>2692</td>\n",
       "    </tr>\n",
       "    <tr>\n",
       "      <th>2</th>\n",
       "      <td>0.84</td>\n",
       "      <td>1</td>\n",
       "      <td>4</td>\n",
       "      <td>5</td>\n",
       "      <td>61.4</td>\n",
       "      <td>56.0</td>\n",
       "      <td>6.04</td>\n",
       "      <td>6.15</td>\n",
       "      <td>3.74</td>\n",
       "      <td>4372</td>\n",
       "    </tr>\n",
       "    <tr>\n",
       "      <th>3</th>\n",
       "      <td>1.55</td>\n",
       "      <td>1</td>\n",
       "      <td>5</td>\n",
       "      <td>5</td>\n",
       "      <td>62.0</td>\n",
       "      <td>57.0</td>\n",
       "      <td>7.37</td>\n",
       "      <td>7.43</td>\n",
       "      <td>4.59</td>\n",
       "      <td>13665</td>\n",
       "    </tr>\n",
       "    <tr>\n",
       "      <th>4</th>\n",
       "      <td>0.30</td>\n",
       "      <td>1</td>\n",
       "      <td>4</td>\n",
       "      <td>2</td>\n",
       "      <td>61.9</td>\n",
       "      <td>57.0</td>\n",
       "      <td>4.28</td>\n",
       "      <td>4.31</td>\n",
       "      <td>2.66</td>\n",
       "      <td>422</td>\n",
       "    </tr>\n",
       "    <tr>\n",
       "      <th>...</th>\n",
       "      <td>...</td>\n",
       "      <td>...</td>\n",
       "      <td>...</td>\n",
       "      <td>...</td>\n",
       "      <td>...</td>\n",
       "      <td>...</td>\n",
       "      <td>...</td>\n",
       "      <td>...</td>\n",
       "      <td>...</td>\n",
       "      <td>...</td>\n",
       "    </tr>\n",
       "    <tr>\n",
       "      <th>40450</th>\n",
       "      <td>0.40</td>\n",
       "      <td>1</td>\n",
       "      <td>2</td>\n",
       "      <td>7</td>\n",
       "      <td>60.8</td>\n",
       "      <td>57.0</td>\n",
       "      <td>4.79</td>\n",
       "      <td>4.82</td>\n",
       "      <td>2.92</td>\n",
       "      <td>1278</td>\n",
       "    </tr>\n",
       "    <tr>\n",
       "      <th>40451</th>\n",
       "      <td>0.52</td>\n",
       "      <td>1</td>\n",
       "      <td>7</td>\n",
       "      <td>2</td>\n",
       "      <td>61.6</td>\n",
       "      <td>55.0</td>\n",
       "      <td>5.16</td>\n",
       "      <td>5.19</td>\n",
       "      <td>3.19</td>\n",
       "      <td>924</td>\n",
       "    </tr>\n",
       "    <tr>\n",
       "      <th>40452</th>\n",
       "      <td>1.00</td>\n",
       "      <td>3</td>\n",
       "      <td>2</td>\n",
       "      <td>3</td>\n",
       "      <td>59.4</td>\n",
       "      <td>63.0</td>\n",
       "      <td>6.47</td>\n",
       "      <td>6.42</td>\n",
       "      <td>3.83</td>\n",
       "      <td>5322</td>\n",
       "    </tr>\n",
       "    <tr>\n",
       "      <th>40453</th>\n",
       "      <td>0.57</td>\n",
       "      <td>3</td>\n",
       "      <td>2</td>\n",
       "      <td>5</td>\n",
       "      <td>62.9</td>\n",
       "      <td>56.0</td>\n",
       "      <td>5.31</td>\n",
       "      <td>5.35</td>\n",
       "      <td>3.35</td>\n",
       "      <td>1942</td>\n",
       "    </tr>\n",
       "    <tr>\n",
       "      <th>40454</th>\n",
       "      <td>2.09</td>\n",
       "      <td>4</td>\n",
       "      <td>7</td>\n",
       "      <td>4</td>\n",
       "      <td>57.2</td>\n",
       "      <td>64.0</td>\n",
       "      <td>8.51</td>\n",
       "      <td>8.46</td>\n",
       "      <td>4.85</td>\n",
       "      <td>11576</td>\n",
       "    </tr>\n",
       "  </tbody>\n",
       "</table>\n",
       "<p>40455 rows × 10 columns</p>\n",
       "</div>"
      ],
      "text/plain": [
       "       carat  cut  color  clarity  depth  table     x     y     z  price\n",
       "id                                                                      \n",
       "0       1.14    1      4        6   61.0   56.0  6.74  6.76  4.12   9013\n",
       "1       0.76    1      5        4   62.7   57.0  5.86  5.82  3.66   2692\n",
       "2       0.84    1      4        5   61.4   56.0  6.04  6.15  3.74   4372\n",
       "3       1.55    1      5        5   62.0   57.0  7.37  7.43  4.59  13665\n",
       "4       0.30    1      4        2   61.9   57.0  4.28  4.31  2.66    422\n",
       "...      ...  ...    ...      ...    ...    ...   ...   ...   ...    ...\n",
       "40450   0.40    1      2        7   60.8   57.0  4.79  4.82  2.92   1278\n",
       "40451   0.52    1      7        2   61.6   55.0  5.16  5.19  3.19    924\n",
       "40452   1.00    3      2        3   59.4   63.0  6.47  6.42  3.83   5322\n",
       "40453   0.57    3      2        5   62.9   56.0  5.31  5.35  3.35   1942\n",
       "40454   2.09    4      7        4   57.2   64.0  8.51  8.46  4.85  11576\n",
       "\n",
       "[40455 rows x 10 columns]"
      ]
     },
     "execution_count": 611,
     "metadata": {},
     "output_type": "execute_result"
    }
   ],
   "source": [
    "df"
   ]
  },
  {
   "cell_type": "code",
   "execution_count": 618,
   "id": "fabdf7b1",
   "metadata": {},
   "outputs": [],
   "source": [
    "df= df.drop(['x'], axis=1)"
   ]
  },
  {
   "cell_type": "code",
   "execution_count": 619,
   "id": "7f634d98",
   "metadata": {},
   "outputs": [],
   "source": [
    "X = df.drop('price', axis=1)\n",
    "y = df['price']"
   ]
  },
  {
   "cell_type": "code",
   "execution_count": 620,
   "id": "f6c48679",
   "metadata": {},
   "outputs": [],
   "source": [
    "modelo=LinReg()"
   ]
  },
  {
   "cell_type": "code",
   "execution_count": 621,
   "id": "5fa3b498",
   "metadata": {},
   "outputs": [],
   "source": [
    "X_train, X_test, y_train, y_test = tts(X,y, test_size=0.2)"
   ]
  },
  {
   "cell_type": "code",
   "execution_count": 622,
   "id": "3ba120e3",
   "metadata": {},
   "outputs": [
    {
     "data": {
      "text/plain": [
       "LinearRegression()"
      ]
     },
     "execution_count": 622,
     "metadata": {},
     "output_type": "execute_result"
    }
   ],
   "source": [
    "modelo.fit(X,y)"
   ]
  },
  {
   "cell_type": "code",
   "execution_count": 623,
   "id": "e6c455f4",
   "metadata": {},
   "outputs": [],
   "source": [
    "y_pred = modelo.predict(X_test)"
   ]
  },
  {
   "cell_type": "code",
   "execution_count": 624,
   "id": "288696d3",
   "metadata": {},
   "outputs": [
    {
     "data": {
      "text/plain": [
       "1207.8034701460283"
      ]
     },
     "execution_count": 624,
     "metadata": {},
     "output_type": "execute_result"
    }
   ],
   "source": [
    "RMSE = (metrics.mean_squared_error(y_test, y_pred)) ** 0.5\n",
    "RMSE"
   ]
  },
  {
   "cell_type": "code",
   "execution_count": 392,
   "id": "31f619cb",
   "metadata": {},
   "outputs": [],
   "source": [
    "models={\n",
    "    'ridge': Ridge(),\n",
    "    'lasso': Lasso(),\n",
    "    'sgd': SGDRegressor(),\n",
    "    'knn': KNeighborsRegressor(),\n",
    "    'grad': GradientBoostingRegressor(),\n",
    "}"
   ]
  },
  {
   "cell_type": "code",
   "execution_count": 393,
   "id": "5aff2845",
   "metadata": {},
   "outputs": [
    {
     "name": "stdout",
     "output_type": "stream",
     "text": [
      "ENTRENANDO:  ridge\n",
      "ENTRENANDO:  lasso\n",
      "ENTRENANDO:  sgd\n",
      "ENTRENANDO:  knn\n",
      "ENTRENANDO:  grad\n"
     ]
    }
   ],
   "source": [
    "for name, model in models.items():\n",
    "    print(\"ENTRENANDO: \", name)\n",
    "    model.fit(X_train, y_train)"
   ]
  },
  {
   "cell_type": "code",
   "execution_count": 394,
   "id": "1eb0e6b3",
   "metadata": {},
   "outputs": [
    {
     "name": "stdout",
     "output_type": "stream",
     "text": [
      "------ridge------\n",
      "RMSE -  1205.267533320237\n",
      "------lasso------\n",
      "RMSE -  1205.9125697664094\n",
      "------sgd------\n",
      "RMSE -  4886133.749063441\n",
      "------knn------\n",
      "RMSE -  901.1615419894733\n",
      "------grad------\n",
      "RMSE -  613.8575195508364\n"
     ]
    }
   ],
   "source": [
    "for name, model in models.items():\n",
    "    y_pred = model.predict(X_test)\n",
    "    print(f\"------{name}------\")    \n",
    "    print('RMSE - ', np.sqrt(metrics.mean_squared_error(y_test, y_pred)))"
   ]
  },
  {
   "cell_type": "code",
   "execution_count": 437,
   "id": "3019a295",
   "metadata": {},
   "outputs": [],
   "source": [
    "from sklearn.preprocessing import StandardScaler\n",
    "from sklearn.preprocessing import MinMaxScaler\n",
    "min_max = MinMaxScaler()\n",
    "scaler = StandardScaler()"
   ]
  },
  {
   "cell_type": "code",
   "execution_count": 438,
   "id": "32640a2d",
   "metadata": {},
   "outputs": [],
   "source": [
    "df2=df"
   ]
  },
  {
   "cell_type": "code",
   "execution_count": 439,
   "id": "468af3c1",
   "metadata": {},
   "outputs": [],
   "source": [
    "df2[\"table\"] = min_max.fit_transform(df2[\"table\"].values.reshape(-1,1))"
   ]
  },
  {
   "cell_type": "code",
   "execution_count": 407,
   "id": "4cbe149d",
   "metadata": {},
   "outputs": [],
   "source": [
    "df2[\"depth\"] = scaler.fit_transform(df2[\"depth\"].values.reshape(-1,1))"
   ]
  },
  {
   "cell_type": "code",
   "execution_count": 440,
   "id": "1471c83c",
   "metadata": {},
   "outputs": [],
   "source": [
    "X = df2.drop('price', axis=1)\n",
    "y = df2['price']\n",
    "modelo=LinReg()\n",
    "X_train, X_test, y_train, y_test = tts(X,y, test_size=0.2)\n",
    "modelo.fit(X,y)\n",
    "y_pred = modelo.predict(X_test)"
   ]
  },
  {
   "cell_type": "code",
   "execution_count": 441,
   "id": "ea38aab0",
   "metadata": {},
   "outputs": [
    {
     "name": "stdout",
     "output_type": "stream",
     "text": [
      "RMSE - Raiz Error Cuadratico Medio 1198.7741117956894\n"
     ]
    }
   ],
   "source": [
    "print('RMSE - Raiz Error Cuadratico Medio', metrics.mean_squared_error(y_test, y_pred)**0.5)"
   ]
  },
  {
   "cell_type": "code",
   "execution_count": 442,
   "id": "9506549d",
   "metadata": {},
   "outputs": [],
   "source": [
    "models={\n",
    "    'ridge': Ridge(),\n",
    "    'lasso': Lasso(),\n",
    "    'sgd': SGDRegressor(),\n",
    "    'knn': KNeighborsRegressor(),\n",
    "    'grad': GradientBoostingRegressor(),\n",
    "}"
   ]
  },
  {
   "cell_type": "code",
   "execution_count": 443,
   "id": "9dc839f4",
   "metadata": {},
   "outputs": [
    {
     "name": "stdout",
     "output_type": "stream",
     "text": [
      "ENTRENANDO:  ridge\n",
      "ENTRENANDO:  lasso\n"
     ]
    },
    {
     "name": "stderr",
     "output_type": "stream",
     "text": [
      "/home/eduardo/anaconda3/envs/Ironhack/lib/python3.8/site-packages/sklearn/linear_model/_coordinate_descent.py:647: ConvergenceWarning: Objective did not converge. You might want to increase the number of iterations, check the scale of the features or consider increasing regularisation. Duality gap: 9.051e+07, tolerance: 5.150e+07\n",
      "  model = cd_fast.enet_coordinate_descent(\n"
     ]
    },
    {
     "name": "stdout",
     "output_type": "stream",
     "text": [
      "ENTRENANDO:  sgd\n",
      "ENTRENANDO:  knn\n",
      "ENTRENANDO:  grad\n"
     ]
    }
   ],
   "source": [
    "for name, model in models.items():\n",
    "    print(\"ENTRENANDO: \", name)\n",
    "    model.fit(X_train, y_train)"
   ]
  },
  {
   "cell_type": "code",
   "execution_count": 444,
   "id": "3c4f3f6a",
   "metadata": {},
   "outputs": [
    {
     "name": "stdout",
     "output_type": "stream",
     "text": [
      "------ridge------\n",
      "RMSE -  1227.1161729570547\n",
      "------lasso------\n",
      "RMSE -  1209.3655685954377\n",
      "------sgd------\n",
      "RMSE -  1222.7857185514092\n",
      "------knn------\n",
      "RMSE -  715.1644873107989\n",
      "------grad------\n",
      "RMSE -  628.5837981505736\n"
     ]
    }
   ],
   "source": [
    "for name, model in models.items():\n",
    "    y_pred = model.predict(X_test)\n",
    "    print(f\"------{name}------\")    \n",
    "    print('RMSE - ', np.sqrt(metrics.mean_squared_error(y_test, y_pred)))"
   ]
  },
  {
   "cell_type": "code",
   "execution_count": 446,
   "id": "d4174211",
   "metadata": {},
   "outputs": [
    {
     "data": {
      "text/html": [
       "<div>\n",
       "<style scoped>\n",
       "    .dataframe tbody tr th:only-of-type {\n",
       "        vertical-align: middle;\n",
       "    }\n",
       "\n",
       "    .dataframe tbody tr th {\n",
       "        vertical-align: top;\n",
       "    }\n",
       "\n",
       "    .dataframe thead th {\n",
       "        text-align: right;\n",
       "    }\n",
       "</style>\n",
       "<table border=\"1\" class=\"dataframe\">\n",
       "  <thead>\n",
       "    <tr style=\"text-align: right;\">\n",
       "      <th></th>\n",
       "      <th>carat</th>\n",
       "      <th>cut</th>\n",
       "      <th>color</th>\n",
       "      <th>clarity</th>\n",
       "      <th>depth</th>\n",
       "      <th>table</th>\n",
       "      <th>x</th>\n",
       "      <th>y</th>\n",
       "      <th>z</th>\n",
       "    </tr>\n",
       "    <tr>\n",
       "      <th>id</th>\n",
       "      <th></th>\n",
       "      <th></th>\n",
       "      <th></th>\n",
       "      <th></th>\n",
       "      <th></th>\n",
       "      <th></th>\n",
       "      <th></th>\n",
       "      <th></th>\n",
       "      <th></th>\n",
       "    </tr>\n",
       "  </thead>\n",
       "  <tbody>\n",
       "    <tr>\n",
       "      <th>0</th>\n",
       "      <td>1.14</td>\n",
       "      <td>1</td>\n",
       "      <td>4</td>\n",
       "      <td>6</td>\n",
       "      <td>-0.520528</td>\n",
       "      <td>0.250000</td>\n",
       "      <td>6.74</td>\n",
       "      <td>6.76</td>\n",
       "      <td>4.12</td>\n",
       "    </tr>\n",
       "    <tr>\n",
       "      <th>1</th>\n",
       "      <td>0.76</td>\n",
       "      <td>1</td>\n",
       "      <td>5</td>\n",
       "      <td>4</td>\n",
       "      <td>0.667584</td>\n",
       "      <td>0.269231</td>\n",
       "      <td>5.86</td>\n",
       "      <td>5.82</td>\n",
       "      <td>3.66</td>\n",
       "    </tr>\n",
       "    <tr>\n",
       "      <th>2</th>\n",
       "      <td>0.84</td>\n",
       "      <td>1</td>\n",
       "      <td>4</td>\n",
       "      <td>5</td>\n",
       "      <td>-0.240972</td>\n",
       "      <td>0.250000</td>\n",
       "      <td>6.04</td>\n",
       "      <td>6.15</td>\n",
       "      <td>3.74</td>\n",
       "    </tr>\n",
       "    <tr>\n",
       "      <th>3</th>\n",
       "      <td>1.55</td>\n",
       "      <td>1</td>\n",
       "      <td>5</td>\n",
       "      <td>5</td>\n",
       "      <td>0.178361</td>\n",
       "      <td>0.269231</td>\n",
       "      <td>7.37</td>\n",
       "      <td>7.43</td>\n",
       "      <td>4.59</td>\n",
       "    </tr>\n",
       "    <tr>\n",
       "      <th>4</th>\n",
       "      <td>0.30</td>\n",
       "      <td>1</td>\n",
       "      <td>4</td>\n",
       "      <td>2</td>\n",
       "      <td>0.108473</td>\n",
       "      <td>0.269231</td>\n",
       "      <td>4.28</td>\n",
       "      <td>4.31</td>\n",
       "      <td>2.66</td>\n",
       "    </tr>\n",
       "    <tr>\n",
       "      <th>...</th>\n",
       "      <td>...</td>\n",
       "      <td>...</td>\n",
       "      <td>...</td>\n",
       "      <td>...</td>\n",
       "      <td>...</td>\n",
       "      <td>...</td>\n",
       "      <td>...</td>\n",
       "      <td>...</td>\n",
       "      <td>...</td>\n",
       "    </tr>\n",
       "    <tr>\n",
       "      <th>40450</th>\n",
       "      <td>0.40</td>\n",
       "      <td>1</td>\n",
       "      <td>2</td>\n",
       "      <td>7</td>\n",
       "      <td>-0.660306</td>\n",
       "      <td>0.269231</td>\n",
       "      <td>4.79</td>\n",
       "      <td>4.82</td>\n",
       "      <td>2.92</td>\n",
       "    </tr>\n",
       "    <tr>\n",
       "      <th>40451</th>\n",
       "      <td>0.52</td>\n",
       "      <td>1</td>\n",
       "      <td>7</td>\n",
       "      <td>2</td>\n",
       "      <td>-0.101194</td>\n",
       "      <td>0.230769</td>\n",
       "      <td>5.16</td>\n",
       "      <td>5.19</td>\n",
       "      <td>3.19</td>\n",
       "    </tr>\n",
       "    <tr>\n",
       "      <th>40452</th>\n",
       "      <td>1.00</td>\n",
       "      <td>3</td>\n",
       "      <td>2</td>\n",
       "      <td>3</td>\n",
       "      <td>-1.638750</td>\n",
       "      <td>0.384615</td>\n",
       "      <td>6.47</td>\n",
       "      <td>6.42</td>\n",
       "      <td>3.83</td>\n",
       "    </tr>\n",
       "    <tr>\n",
       "      <th>40453</th>\n",
       "      <td>0.57</td>\n",
       "      <td>3</td>\n",
       "      <td>2</td>\n",
       "      <td>5</td>\n",
       "      <td>0.807362</td>\n",
       "      <td>0.250000</td>\n",
       "      <td>5.31</td>\n",
       "      <td>5.35</td>\n",
       "      <td>3.35</td>\n",
       "    </tr>\n",
       "    <tr>\n",
       "      <th>40454</th>\n",
       "      <td>2.09</td>\n",
       "      <td>4</td>\n",
       "      <td>7</td>\n",
       "      <td>4</td>\n",
       "      <td>-3.176307</td>\n",
       "      <td>0.403846</td>\n",
       "      <td>8.51</td>\n",
       "      <td>8.46</td>\n",
       "      <td>4.85</td>\n",
       "    </tr>\n",
       "  </tbody>\n",
       "</table>\n",
       "<p>40455 rows × 9 columns</p>\n",
       "</div>"
      ],
      "text/plain": [
       "       carat  cut  color  clarity     depth     table     x     y     z\n",
       "id                                                                     \n",
       "0       1.14    1      4        6 -0.520528  0.250000  6.74  6.76  4.12\n",
       "1       0.76    1      5        4  0.667584  0.269231  5.86  5.82  3.66\n",
       "2       0.84    1      4        5 -0.240972  0.250000  6.04  6.15  3.74\n",
       "3       1.55    1      5        5  0.178361  0.269231  7.37  7.43  4.59\n",
       "4       0.30    1      4        2  0.108473  0.269231  4.28  4.31  2.66\n",
       "...      ...  ...    ...      ...       ...       ...   ...   ...   ...\n",
       "40450   0.40    1      2        7 -0.660306  0.269231  4.79  4.82  2.92\n",
       "40451   0.52    1      7        2 -0.101194  0.230769  5.16  5.19  3.19\n",
       "40452   1.00    3      2        3 -1.638750  0.384615  6.47  6.42  3.83\n",
       "40453   0.57    3      2        5  0.807362  0.250000  5.31  5.35  3.35\n",
       "40454   2.09    4      7        4 -3.176307  0.403846  8.51  8.46  4.85\n",
       "\n",
       "[40455 rows x 9 columns]"
      ]
     },
     "execution_count": 446,
     "metadata": {},
     "output_type": "execute_result"
    }
   ],
   "source": [
    "X"
   ]
  },
  {
   "cell_type": "code",
   "execution_count": 629,
   "id": "eab9a334",
   "metadata": {},
   "outputs": [],
   "source": [
    "reg = RandomForestRegressor(n_estimators=6, max_depth=None, min_samples_leaf=2)\n",
    "selector = RFECV(reg, step=1, cv=4)"
   ]
  },
  {
   "cell_type": "code",
   "execution_count": 638,
   "id": "21773f13",
   "metadata": {},
   "outputs": [
    {
     "name": "stderr",
     "output_type": "stream",
     "text": [
      "/home/eduardo/anaconda3/envs/Ironhack/lib/python3.8/site-packages/sklearn/base.py:445: UserWarning: X does not have valid feature names, but RFECV was fitted with feature names\n",
      "  warnings.warn(\n"
     ]
    },
    {
     "data": {
      "text/plain": [
       "RFECV(cv=4, estimator=RandomForestRegressor(min_samples_leaf=2, n_estimators=6))"
      ]
     },
     "execution_count": 638,
     "metadata": {},
     "output_type": "execute_result"
    }
   ],
   "source": [
    "selector.fit(X, y)"
   ]
  },
  {
   "cell_type": "code",
   "execution_count": 631,
   "id": "1c160ec2",
   "metadata": {},
   "outputs": [],
   "source": [
    "predictors = pd.Series(X.columns)[selector.support_.tolist()].tolist()"
   ]
  },
  {
   "cell_type": "code",
   "execution_count": 632,
   "id": "f695444f",
   "metadata": {},
   "outputs": [],
   "source": [
    "X2 = df[predictors]\n",
    "y2 = df[\"price\"]"
   ]
  },
  {
   "cell_type": "code",
   "execution_count": 633,
   "id": "3838ab9e",
   "metadata": {},
   "outputs": [],
   "source": [
    "X_train, X_test, y_train, y_test = tts(X2, y2, test_size=0.2)"
   ]
  },
  {
   "cell_type": "code",
   "execution_count": 634,
   "id": "50a4ad93",
   "metadata": {},
   "outputs": [
    {
     "data": {
      "text/plain": [
       "RandomForestRegressor(min_samples_leaf=2, n_estimators=6)"
      ]
     },
     "execution_count": 634,
     "metadata": {},
     "output_type": "execute_result"
    }
   ],
   "source": [
    "reg.fit(X_train, y_train)"
   ]
  },
  {
   "cell_type": "code",
   "execution_count": 636,
   "id": "18d6daf3",
   "metadata": {},
   "outputs": [],
   "source": [
    "rmse = np.sqrt(metrics.mean_squared_error(y_test, reg.predict(X_test)))"
   ]
  },
  {
   "cell_type": "code",
   "execution_count": 637,
   "id": "43c6f3a7",
   "metadata": {},
   "outputs": [
    {
     "data": {
      "text/plain": [
       "592.7197988656293"
      ]
     },
     "execution_count": 637,
     "metadata": {},
     "output_type": "execute_result"
    }
   ],
   "source": [
    "rmse"
   ]
  },
  {
   "cell_type": "code",
   "execution_count": 595,
   "id": "ce3b1e50",
   "metadata": {},
   "outputs": [],
   "source": [
    "df.to_csv('diamonds.csv', index = False)"
   ]
  },
  {
   "cell_type": "code",
   "execution_count": null,
   "id": "7c094712",
   "metadata": {},
   "outputs": [],
   "source": []
  }
 ],
 "metadata": {
  "kernelspec": {
   "display_name": "Ironhack",
   "language": "python",
   "name": "ironhack"
  },
  "language_info": {
   "codemirror_mode": {
    "name": "ipython",
    "version": 3
   },
   "file_extension": ".py",
   "mimetype": "text/x-python",
   "name": "python",
   "nbconvert_exporter": "python",
   "pygments_lexer": "ipython3",
   "version": "3.8.12"
  }
 },
 "nbformat": 4,
 "nbformat_minor": 5
}
