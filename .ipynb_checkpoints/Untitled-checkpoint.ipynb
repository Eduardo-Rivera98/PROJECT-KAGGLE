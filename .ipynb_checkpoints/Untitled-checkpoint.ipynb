{
 "cells": [
  {
   "cell_type": "code",
   "execution_count": 84,
   "id": "a87b9a0f",
   "metadata": {},
   "outputs": [],
   "source": [
    "import pandas as pd\n",
    "import numpy as np\n",
    "from sklearn.discriminant_analysis import LinearDiscriminantAnalysis\n",
    "from sklearn.neighbors import KNeighborsClassifier\n",
    "from sklearn.naive_bayes import GaussianNB\n",
    "from sklearn.tree import DecisionTreeClassifier\n",
    "from sklearn.svm import SVC\n",
    "from sklearn.linear_model import LogisticRegression\n",
    "from sklearn.model_selection import train_test_split as tts\n",
    "from sklearn import metrics\n",
    "from sklearn.linear_model import LinearRegression as LinReg\n",
    "from sklearn.linear_model import Ridge, Lasso\n",
    "from sklearn.linear_model import SGDRegressor\n",
    "from sklearn.neighbors import KNeighborsRegressor\n",
    "from sklearn.ensemble import GradientBoostingRegressor\n",
    "from sklearn.svm import SVR\n"
   ]
  },
  {
   "cell_type": "code",
   "execution_count": 10,
   "id": "8ef66108",
   "metadata": {
    "scrolled": true
   },
   "outputs": [],
   "source": [
    "df= pd.read_csv('train.csv')"
   ]
  },
  {
   "cell_type": "code",
   "execution_count": 11,
   "id": "60285d33",
   "metadata": {},
   "outputs": [],
   "source": [
    "df=df.set_index('id')"
   ]
  },
  {
   "cell_type": "code",
   "execution_count": 20,
   "id": "59ece867",
   "metadata": {},
   "outputs": [
    {
     "data": {
      "text/html": [
       "<div>\n",
       "<style scoped>\n",
       "    .dataframe tbody tr th:only-of-type {\n",
       "        vertical-align: middle;\n",
       "    }\n",
       "\n",
       "    .dataframe tbody tr th {\n",
       "        vertical-align: top;\n",
       "    }\n",
       "\n",
       "    .dataframe thead th {\n",
       "        text-align: right;\n",
       "    }\n",
       "</style>\n",
       "<table border=\"1\" class=\"dataframe\">\n",
       "  <thead>\n",
       "    <tr style=\"text-align: right;\">\n",
       "      <th></th>\n",
       "      <th>carat</th>\n",
       "      <th>cut</th>\n",
       "      <th>color</th>\n",
       "      <th>clarity</th>\n",
       "      <th>depth</th>\n",
       "      <th>table</th>\n",
       "      <th>x</th>\n",
       "      <th>y</th>\n",
       "      <th>z</th>\n",
       "      <th>price</th>\n",
       "    </tr>\n",
       "    <tr>\n",
       "      <th>id</th>\n",
       "      <th></th>\n",
       "      <th></th>\n",
       "      <th></th>\n",
       "      <th></th>\n",
       "      <th></th>\n",
       "      <th></th>\n",
       "      <th></th>\n",
       "      <th></th>\n",
       "      <th></th>\n",
       "      <th></th>\n",
       "    </tr>\n",
       "  </thead>\n",
       "  <tbody>\n",
       "    <tr>\n",
       "      <th>21344</th>\n",
       "      <td>1.03</td>\n",
       "      <td>Ideal</td>\n",
       "      <td>D</td>\n",
       "      <td>SI1</td>\n",
       "      <td>62.2</td>\n",
       "      <td>56.0</td>\n",
       "      <td>6.48</td>\n",
       "      <td>6.45</td>\n",
       "      <td>4.02</td>\n",
       "      <td>6299</td>\n",
       "    </tr>\n",
       "    <tr>\n",
       "      <th>33809</th>\n",
       "      <td>1.21</td>\n",
       "      <td>Ideal</td>\n",
       "      <td>I</td>\n",
       "      <td>VS1</td>\n",
       "      <td>60.3</td>\n",
       "      <td>60.0</td>\n",
       "      <td>6.89</td>\n",
       "      <td>6.93</td>\n",
       "      <td>4.17</td>\n",
       "      <td>6279</td>\n",
       "    </tr>\n",
       "    <tr>\n",
       "      <th>14794</th>\n",
       "      <td>1.00</td>\n",
       "      <td>Good</td>\n",
       "      <td>E</td>\n",
       "      <td>VS2</td>\n",
       "      <td>64.0</td>\n",
       "      <td>58.0</td>\n",
       "      <td>6.24</td>\n",
       "      <td>6.20</td>\n",
       "      <td>3.99</td>\n",
       "      <td>5376</td>\n",
       "    </tr>\n",
       "    <tr>\n",
       "      <th>499</th>\n",
       "      <td>0.70</td>\n",
       "      <td>Good</td>\n",
       "      <td>E</td>\n",
       "      <td>SI1</td>\n",
       "      <td>61.7</td>\n",
       "      <td>59.0</td>\n",
       "      <td>5.62</td>\n",
       "      <td>5.66</td>\n",
       "      <td>3.48</td>\n",
       "      <td>2459</td>\n",
       "    </tr>\n",
       "    <tr>\n",
       "      <th>4013</th>\n",
       "      <td>0.91</td>\n",
       "      <td>Fair</td>\n",
       "      <td>H</td>\n",
       "      <td>SI2</td>\n",
       "      <td>61.3</td>\n",
       "      <td>67.0</td>\n",
       "      <td>6.24</td>\n",
       "      <td>6.19</td>\n",
       "      <td>3.81</td>\n",
       "      <td>2825</td>\n",
       "    </tr>\n",
       "    <tr>\n",
       "      <th>33642</th>\n",
       "      <td>1.71</td>\n",
       "      <td>Very Good</td>\n",
       "      <td>H</td>\n",
       "      <td>VS1</td>\n",
       "      <td>63.5</td>\n",
       "      <td>59.0</td>\n",
       "      <td>7.59</td>\n",
       "      <td>7.52</td>\n",
       "      <td>4.80</td>\n",
       "      <td>9974</td>\n",
       "    </tr>\n",
       "    <tr>\n",
       "      <th>21163</th>\n",
       "      <td>0.71</td>\n",
       "      <td>Premium</td>\n",
       "      <td>E</td>\n",
       "      <td>SI1</td>\n",
       "      <td>62.7</td>\n",
       "      <td>56.0</td>\n",
       "      <td>5.71</td>\n",
       "      <td>5.64</td>\n",
       "      <td>3.56</td>\n",
       "      <td>2743</td>\n",
       "    </tr>\n",
       "    <tr>\n",
       "      <th>37374</th>\n",
       "      <td>1.01</td>\n",
       "      <td>Ideal</td>\n",
       "      <td>D</td>\n",
       "      <td>VVS1</td>\n",
       "      <td>62.5</td>\n",
       "      <td>55.0</td>\n",
       "      <td>6.44</td>\n",
       "      <td>6.39</td>\n",
       "      <td>4.01</td>\n",
       "      <td>11767</td>\n",
       "    </tr>\n",
       "    <tr>\n",
       "      <th>2963</th>\n",
       "      <td>0.54</td>\n",
       "      <td>Ideal</td>\n",
       "      <td>G</td>\n",
       "      <td>VVS1</td>\n",
       "      <td>61.3</td>\n",
       "      <td>56.0</td>\n",
       "      <td>5.25</td>\n",
       "      <td>5.27</td>\n",
       "      <td>3.23</td>\n",
       "      <td>2041</td>\n",
       "    </tr>\n",
       "    <tr>\n",
       "      <th>26611</th>\n",
       "      <td>0.48</td>\n",
       "      <td>Premium</td>\n",
       "      <td>F</td>\n",
       "      <td>VS2</td>\n",
       "      <td>61.3</td>\n",
       "      <td>60.0</td>\n",
       "      <td>5.01</td>\n",
       "      <td>4.97</td>\n",
       "      <td>3.06</td>\n",
       "      <td>1279</td>\n",
       "    </tr>\n",
       "  </tbody>\n",
       "</table>\n",
       "</div>"
      ],
      "text/plain": [
       "       carat        cut color clarity  depth  table     x     y     z  price\n",
       "id                                                                          \n",
       "21344   1.03      Ideal     D     SI1   62.2   56.0  6.48  6.45  4.02   6299\n",
       "33809   1.21      Ideal     I     VS1   60.3   60.0  6.89  6.93  4.17   6279\n",
       "14794   1.00       Good     E     VS2   64.0   58.0  6.24  6.20  3.99   5376\n",
       "499     0.70       Good     E     SI1   61.7   59.0  5.62  5.66  3.48   2459\n",
       "4013    0.91       Fair     H     SI2   61.3   67.0  6.24  6.19  3.81   2825\n",
       "33642   1.71  Very Good     H     VS1   63.5   59.0  7.59  7.52  4.80   9974\n",
       "21163   0.71    Premium     E     SI1   62.7   56.0  5.71  5.64  3.56   2743\n",
       "37374   1.01      Ideal     D    VVS1   62.5   55.0  6.44  6.39  4.01  11767\n",
       "2963    0.54      Ideal     G    VVS1   61.3   56.0  5.25  5.27  3.23   2041\n",
       "26611   0.48    Premium     F     VS2   61.3   60.0  5.01  4.97  3.06   1279"
      ]
     },
     "execution_count": 20,
     "metadata": {},
     "output_type": "execute_result"
    }
   ],
   "source": [
    "df.sample(10)"
   ]
  },
  {
   "cell_type": "code",
   "execution_count": 21,
   "id": "ee7ad978",
   "metadata": {},
   "outputs": [
    {
     "data": {
      "text/plain": [
       "carat      0\n",
       "cut        0\n",
       "color      0\n",
       "clarity    0\n",
       "depth      0\n",
       "table      0\n",
       "x          0\n",
       "y          0\n",
       "z          0\n",
       "price      0\n",
       "dtype: int64"
      ]
     },
     "execution_count": 21,
     "metadata": {},
     "output_type": "execute_result"
    }
   ],
   "source": [
    "df.isnull().sum()"
   ]
  },
  {
   "cell_type": "code",
   "execution_count": 52,
   "id": "26053e23",
   "metadata": {},
   "outputs": [],
   "source": [
    "corr=df.corr()"
   ]
  },
  {
   "cell_type": "code",
   "execution_count": 53,
   "id": "f0fae7b2",
   "metadata": {},
   "outputs": [
    {
     "name": "stderr",
     "output_type": "stream",
     "text": [
      "<ipython-input-53-2f759844c1a2>:4: FutureWarning: this method is deprecated in favour of `Styler.format(precision=..)`\n",
      "  (corr\n"
     ]
    },
    {
     "data": {
      "text/html": [
       "<style type=\"text/css\">\n",
       "#T_eac3c_row0_col0, #T_eac3c_row0_col1, #T_eac3c_row0_col2, #T_eac3c_row0_col3, #T_eac3c_row0_col4, #T_eac3c_row0_col5, #T_eac3c_row0_col6, #T_eac3c_row1_col1, #T_eac3c_row1_col2, #T_eac3c_row1_col3, #T_eac3c_row1_col4, #T_eac3c_row1_col5, #T_eac3c_row1_col6, #T_eac3c_row2_col2, #T_eac3c_row2_col3, #T_eac3c_row2_col4, #T_eac3c_row2_col5, #T_eac3c_row2_col6, #T_eac3c_row3_col3, #T_eac3c_row3_col4, #T_eac3c_row3_col5, #T_eac3c_row3_col6, #T_eac3c_row4_col4, #T_eac3c_row4_col5, #T_eac3c_row4_col6, #T_eac3c_row5_col5, #T_eac3c_row5_col6, #T_eac3c_row6_col6 {\n",
       "  background-color: #000000;\n",
       "  color: #f1f1f1;\n",
       "  background-color: #f1f1f1;\n",
       "}\n",
       "#T_eac3c_row1_col0 {\n",
       "  background-color: #cad8ef;\n",
       "  color: #000000;\n",
       "}\n",
       "#T_eac3c_row2_col0 {\n",
       "  background-color: #b1cbfc;\n",
       "  color: #000000;\n",
       "}\n",
       "#T_eac3c_row2_col1 {\n",
       "  background-color: #dfdbd9;\n",
       "  color: #000000;\n",
       "}\n",
       "#T_eac3c_row3_col0 {\n",
       "  background-color: #a6c4fe;\n",
       "  color: #000000;\n",
       "}\n",
       "#T_eac3c_row3_col1 {\n",
       "  background-color: #f1ccb8;\n",
       "  color: #000000;\n",
       "}\n",
       "#T_eac3c_row3_col2, #T_eac3c_row5_col2 {\n",
       "  background-color: #d9dce1;\n",
       "  color: #000000;\n",
       "}\n",
       "#T_eac3c_row4_col0 {\n",
       "  background-color: #e0dbd8;\n",
       "  color: #000000;\n",
       "}\n",
       "#T_eac3c_row4_col1 {\n",
       "  background-color: #bcd2f7;\n",
       "  color: #000000;\n",
       "}\n",
       "#T_eac3c_row4_col2, #T_eac3c_row6_col1 {\n",
       "  background-color: #d6dce4;\n",
       "  color: #000000;\n",
       "}\n",
       "#T_eac3c_row4_col3 {\n",
       "  background-color: #d3dbe7;\n",
       "  color: #000000;\n",
       "}\n",
       "#T_eac3c_row5_col0 {\n",
       "  background-color: #f1cdba;\n",
       "  color: #000000;\n",
       "}\n",
       "#T_eac3c_row5_col1 {\n",
       "  background-color: #98b9ff;\n",
       "  color: #000000;\n",
       "}\n",
       "#T_eac3c_row5_col3 {\n",
       "  background-color: #c7d7f0;\n",
       "  color: #000000;\n",
       "}\n",
       "#T_eac3c_row5_col4 {\n",
       "  background-color: #afcafc;\n",
       "  color: #000000;\n",
       "}\n",
       "#T_eac3c_row6_col0 {\n",
       "  background-color: #c32e31;\n",
       "  color: #f1f1f1;\n",
       "}\n",
       "#T_eac3c_row6_col2 {\n",
       "  background-color: #c4d5f3;\n",
       "  color: #000000;\n",
       "}\n",
       "#T_eac3c_row6_col3 {\n",
       "  background-color: #c9d7f0;\n",
       "  color: #000000;\n",
       "}\n",
       "#T_eac3c_row6_col4 {\n",
       "  background-color: #dbdcde;\n",
       "  color: #000000;\n",
       "}\n",
       "#T_eac3c_row6_col5 {\n",
       "  background-color: #ecd3c5;\n",
       "  color: #000000;\n",
       "}\n",
       "</style>\n",
       "<table id=\"T_eac3c_\">\n",
       "  <thead>\n",
       "    <tr>\n",
       "      <th class=\"blank level0\" >&nbsp;</th>\n",
       "      <th class=\"col_heading level0 col0\" >carat</th>\n",
       "      <th class=\"col_heading level0 col1\" >cut</th>\n",
       "      <th class=\"col_heading level0 col2\" >color</th>\n",
       "      <th class=\"col_heading level0 col3\" >clarity</th>\n",
       "      <th class=\"col_heading level0 col4\" >depth</th>\n",
       "      <th class=\"col_heading level0 col5\" >table</th>\n",
       "      <th class=\"col_heading level0 col6\" >price</th>\n",
       "    </tr>\n",
       "  </thead>\n",
       "  <tbody>\n",
       "    <tr>\n",
       "      <th id=\"T_eac3c_level0_row0\" class=\"row_heading level0 row0\" >carat</th>\n",
       "      <td id=\"T_eac3c_row0_col0\" class=\"data row0 col0\" >nan</td>\n",
       "      <td id=\"T_eac3c_row0_col1\" class=\"data row0 col1\" >nan</td>\n",
       "      <td id=\"T_eac3c_row0_col2\" class=\"data row0 col2\" >nan</td>\n",
       "      <td id=\"T_eac3c_row0_col3\" class=\"data row0 col3\" >nan</td>\n",
       "      <td id=\"T_eac3c_row0_col4\" class=\"data row0 col4\" >nan</td>\n",
       "      <td id=\"T_eac3c_row0_col5\" class=\"data row0 col5\" >nan</td>\n",
       "      <td id=\"T_eac3c_row0_col6\" class=\"data row0 col6\" >nan</td>\n",
       "    </tr>\n",
       "    <tr>\n",
       "      <th id=\"T_eac3c_level0_row1\" class=\"row_heading level0 row1\" >cut</th>\n",
       "      <td id=\"T_eac3c_row1_col0\" class=\"data row1 col0\" >-0.13</td>\n",
       "      <td id=\"T_eac3c_row1_col1\" class=\"data row1 col1\" >nan</td>\n",
       "      <td id=\"T_eac3c_row1_col2\" class=\"data row1 col2\" >nan</td>\n",
       "      <td id=\"T_eac3c_row1_col3\" class=\"data row1 col3\" >nan</td>\n",
       "      <td id=\"T_eac3c_row1_col4\" class=\"data row1 col4\" >nan</td>\n",
       "      <td id=\"T_eac3c_row1_col5\" class=\"data row1 col5\" >nan</td>\n",
       "      <td id=\"T_eac3c_row1_col6\" class=\"data row1 col6\" >nan</td>\n",
       "    </tr>\n",
       "    <tr>\n",
       "      <th id=\"T_eac3c_level0_row2\" class=\"row_heading level0 row2\" >color</th>\n",
       "      <td id=\"T_eac3c_row2_col0\" class=\"data row2 col0\" >-0.29</td>\n",
       "      <td id=\"T_eac3c_row2_col1\" class=\"data row2 col1\" >0.02</td>\n",
       "      <td id=\"T_eac3c_row2_col2\" class=\"data row2 col2\" >nan</td>\n",
       "      <td id=\"T_eac3c_row2_col3\" class=\"data row2 col3\" >nan</td>\n",
       "      <td id=\"T_eac3c_row2_col4\" class=\"data row2 col4\" >nan</td>\n",
       "      <td id=\"T_eac3c_row2_col5\" class=\"data row2 col5\" >nan</td>\n",
       "      <td id=\"T_eac3c_row2_col6\" class=\"data row2 col6\" >nan</td>\n",
       "    </tr>\n",
       "    <tr>\n",
       "      <th id=\"T_eac3c_level0_row3\" class=\"row_heading level0 row3\" >clarity</th>\n",
       "      <td id=\"T_eac3c_row3_col0\" class=\"data row3 col0\" >-0.35</td>\n",
       "      <td id=\"T_eac3c_row3_col1\" class=\"data row3 col1\" >0.19</td>\n",
       "      <td id=\"T_eac3c_row3_col2\" class=\"data row3 col2\" >-0.03</td>\n",
       "      <td id=\"T_eac3c_row3_col3\" class=\"data row3 col3\" >nan</td>\n",
       "      <td id=\"T_eac3c_row3_col4\" class=\"data row3 col4\" >nan</td>\n",
       "      <td id=\"T_eac3c_row3_col5\" class=\"data row3 col5\" >nan</td>\n",
       "      <td id=\"T_eac3c_row3_col6\" class=\"data row3 col6\" >nan</td>\n",
       "    </tr>\n",
       "    <tr>\n",
       "      <th id=\"T_eac3c_level0_row4\" class=\"row_heading level0 row4\" >depth</th>\n",
       "      <td id=\"T_eac3c_row4_col0\" class=\"data row4 col0\" >0.03</td>\n",
       "      <td id=\"T_eac3c_row4_col1\" class=\"data row4 col1\" >-0.22</td>\n",
       "      <td id=\"T_eac3c_row4_col2\" class=\"data row4 col2\" >-0.05</td>\n",
       "      <td id=\"T_eac3c_row4_col3\" class=\"data row4 col3\" >-0.07</td>\n",
       "      <td id=\"T_eac3c_row4_col4\" class=\"data row4 col4\" >nan</td>\n",
       "      <td id=\"T_eac3c_row4_col5\" class=\"data row4 col5\" >nan</td>\n",
       "      <td id=\"T_eac3c_row4_col6\" class=\"data row4 col6\" >nan</td>\n",
       "    </tr>\n",
       "    <tr>\n",
       "      <th id=\"T_eac3c_level0_row5\" class=\"row_heading level0 row5\" >table</th>\n",
       "      <td id=\"T_eac3c_row5_col0\" class=\"data row5 col0\" >0.18</td>\n",
       "      <td id=\"T_eac3c_row5_col1\" class=\"data row5 col1\" >-0.43</td>\n",
       "      <td id=\"T_eac3c_row5_col2\" class=\"data row5 col2\" >-0.02</td>\n",
       "      <td id=\"T_eac3c_row5_col3\" class=\"data row5 col3\" >-0.16</td>\n",
       "      <td id=\"T_eac3c_row5_col4\" class=\"data row5 col4\" >-0.30</td>\n",
       "      <td id=\"T_eac3c_row5_col5\" class=\"data row5 col5\" >nan</td>\n",
       "      <td id=\"T_eac3c_row5_col6\" class=\"data row5 col6\" >nan</td>\n",
       "    </tr>\n",
       "    <tr>\n",
       "      <th id=\"T_eac3c_level0_row6\" class=\"row_heading level0 row6\" >price</th>\n",
       "      <td id=\"T_eac3c_row6_col0\" class=\"data row6 col0\" >0.92</td>\n",
       "      <td id=\"T_eac3c_row6_col1\" class=\"data row6 col1\" >-0.05</td>\n",
       "      <td id=\"T_eac3c_row6_col2\" class=\"data row6 col2\" >-0.17</td>\n",
       "      <td id=\"T_eac3c_row6_col3\" class=\"data row6 col3\" >-0.15</td>\n",
       "      <td id=\"T_eac3c_row6_col4\" class=\"data row6 col4\" >-0.02</td>\n",
       "      <td id=\"T_eac3c_row6_col5\" class=\"data row6 col5\" >0.13</td>\n",
       "      <td id=\"T_eac3c_row6_col6\" class=\"data row6 col6\" >nan</td>\n",
       "    </tr>\n",
       "  </tbody>\n",
       "</table>\n"
      ],
      "text/plain": [
       "<pandas.io.formats.style.Styler at 0x7f7d9a036fa0>"
      ]
     },
     "execution_count": 53,
     "metadata": {},
     "output_type": "execute_result"
    }
   ],
   "source": [
    "mask = np.zeros_like(corr, dtype=bool)\n",
    "mask[np.triu_indices_from(mask)] = True\n",
    "corr[mask] = np.nan\n",
    "(corr\n",
    " .style\n",
    " .background_gradient(cmap='coolwarm', axis=None, vmin=-1, vmax=1)\n",
    " .highlight_null(null_color='#f1f1f1') \n",
    " .set_precision(2))"
   ]
  },
  {
   "cell_type": "code",
   "execution_count": 31,
   "id": "94fde1f6",
   "metadata": {},
   "outputs": [
    {
     "data": {
      "text/plain": [
       "SI1     9746\n",
       "VS2     9175\n",
       "SI2     6912\n",
       "VS1     6137\n",
       "VVS2    3822\n",
       "VVS1    2732\n",
       "IF      1367\n",
       "I1       564\n",
       "Name: clarity, dtype: int64"
      ]
     },
     "execution_count": 31,
     "metadata": {},
     "output_type": "execute_result"
    }
   ],
   "source": [
    "df.clarity.value_counts()"
   ]
  },
  {
   "cell_type": "code",
   "execution_count": 35,
   "id": "2f79a684",
   "metadata": {},
   "outputs": [],
   "source": [
    "def clarity(x):\n",
    "    if x=='I1':\n",
    "        return 0\n",
    "    if x=='SI2':\n",
    "        return 1\n",
    "    if x=='SI1':\n",
    "        return 2\n",
    "    if x=='VS2':\n",
    "        return 3\n",
    "    if x=='VS1':\n",
    "        return 4\n",
    "    if x=='VVS2':\n",
    "        return 5\n",
    "    if x=='VVS1':\n",
    "        return 6\n",
    "    if x=='IF':\n",
    "        return 7"
   ]
  },
  {
   "cell_type": "code",
   "execution_count": 36,
   "id": "61d81ea6",
   "metadata": {},
   "outputs": [],
   "source": [
    "df.clarity=df.clarity.apply(clarity)"
   ]
  },
  {
   "cell_type": "code",
   "execution_count": 39,
   "id": "64b2bb25",
   "metadata": {},
   "outputs": [
    {
     "data": {
      "text/plain": [
       "cut\n",
       "Fair         4363.128583\n",
       "Good         3943.907278\n",
       "Ideal        3476.273513\n",
       "Premium      4581.108339\n",
       "Very Good    3977.050498\n",
       "Name: price, dtype: float64"
      ]
     },
     "execution_count": 39,
     "metadata": {},
     "output_type": "execute_result"
    }
   ],
   "source": [
    "df.groupby(['cut'])['price'].mean()"
   ]
  },
  {
   "cell_type": "code",
   "execution_count": 44,
   "id": "a15d898f",
   "metadata": {},
   "outputs": [
    {
     "data": {
      "text/plain": [
       "4    16193\n",
       "3    10301\n",
       "2     9030\n",
       "1     3710\n",
       "0     1221\n",
       "Name: cut, dtype: int64"
      ]
     },
     "execution_count": 44,
     "metadata": {},
     "output_type": "execute_result"
    }
   ],
   "source": [
    "df.cut.value_counts()"
   ]
  },
  {
   "cell_type": "code",
   "execution_count": 41,
   "id": "6d8c9415",
   "metadata": {},
   "outputs": [],
   "source": [
    "def cut(x):\n",
    "    if x=='Fair':\n",
    "        return 0\n",
    "    if x=='Good':\n",
    "        return 1\n",
    "    if x=='Very Good':\n",
    "        return 2\n",
    "    if x=='Premium':\n",
    "        return 3\n",
    "    if x=='Ideal':\n",
    "        return 4\n"
   ]
  },
  {
   "cell_type": "code",
   "execution_count": 42,
   "id": "14c23822",
   "metadata": {},
   "outputs": [],
   "source": [
    "df.cut= df.cut.apply(cut)"
   ]
  },
  {
   "cell_type": "code",
   "execution_count": 45,
   "id": "7958b130",
   "metadata": {},
   "outputs": [
    {
     "data": {
      "text/plain": [
       "array(['G', 'H', 'F', 'J', 'E', 'I', 'D'], dtype=object)"
      ]
     },
     "execution_count": 45,
     "metadata": {},
     "output_type": "execute_result"
    }
   ],
   "source": [
    "df.color.unique()"
   ]
  },
  {
   "cell_type": "code",
   "execution_count": 46,
   "id": "95fcc150",
   "metadata": {},
   "outputs": [],
   "source": [
    "def color(x):\n",
    "    if x=='J':\n",
    "        return 0\n",
    "    if x=='I':\n",
    "        return 1\n",
    "    if x=='H':\n",
    "        return 2\n",
    "    if x=='G':\n",
    "        return 3\n",
    "    if x=='F':\n",
    "        return 4\n",
    "    if x=='E':\n",
    "        return 5\n",
    "    if x=='D':\n",
    "        return 6"
   ]
  },
  {
   "cell_type": "code",
   "execution_count": 47,
   "id": "3619983e",
   "metadata": {},
   "outputs": [],
   "source": [
    "df.color=df.color.apply(color)"
   ]
  },
  {
   "cell_type": "code",
   "execution_count": 48,
   "id": "f6ed54b7",
   "metadata": {},
   "outputs": [
    {
     "data": {
      "text/html": [
       "<div>\n",
       "<style scoped>\n",
       "    .dataframe tbody tr th:only-of-type {\n",
       "        vertical-align: middle;\n",
       "    }\n",
       "\n",
       "    .dataframe tbody tr th {\n",
       "        vertical-align: top;\n",
       "    }\n",
       "\n",
       "    .dataframe thead th {\n",
       "        text-align: right;\n",
       "    }\n",
       "</style>\n",
       "<table border=\"1\" class=\"dataframe\">\n",
       "  <thead>\n",
       "    <tr style=\"text-align: right;\">\n",
       "      <th></th>\n",
       "      <th>carat</th>\n",
       "      <th>cut</th>\n",
       "      <th>color</th>\n",
       "      <th>clarity</th>\n",
       "      <th>depth</th>\n",
       "      <th>table</th>\n",
       "      <th>x</th>\n",
       "      <th>y</th>\n",
       "      <th>z</th>\n",
       "      <th>price</th>\n",
       "    </tr>\n",
       "    <tr>\n",
       "      <th>id</th>\n",
       "      <th></th>\n",
       "      <th></th>\n",
       "      <th></th>\n",
       "      <th></th>\n",
       "      <th></th>\n",
       "      <th></th>\n",
       "      <th></th>\n",
       "      <th></th>\n",
       "      <th></th>\n",
       "      <th></th>\n",
       "    </tr>\n",
       "  </thead>\n",
       "  <tbody>\n",
       "    <tr>\n",
       "      <th>0</th>\n",
       "      <td>1.14</td>\n",
       "      <td>4</td>\n",
       "      <td>3</td>\n",
       "      <td>5</td>\n",
       "      <td>61.0</td>\n",
       "      <td>56.0</td>\n",
       "      <td>6.74</td>\n",
       "      <td>6.76</td>\n",
       "      <td>4.12</td>\n",
       "      <td>9013</td>\n",
       "    </tr>\n",
       "    <tr>\n",
       "      <th>1</th>\n",
       "      <td>0.76</td>\n",
       "      <td>4</td>\n",
       "      <td>2</td>\n",
       "      <td>3</td>\n",
       "      <td>62.7</td>\n",
       "      <td>57.0</td>\n",
       "      <td>5.86</td>\n",
       "      <td>5.82</td>\n",
       "      <td>3.66</td>\n",
       "      <td>2692</td>\n",
       "    </tr>\n",
       "    <tr>\n",
       "      <th>2</th>\n",
       "      <td>0.84</td>\n",
       "      <td>4</td>\n",
       "      <td>3</td>\n",
       "      <td>4</td>\n",
       "      <td>61.4</td>\n",
       "      <td>56.0</td>\n",
       "      <td>6.04</td>\n",
       "      <td>6.15</td>\n",
       "      <td>3.74</td>\n",
       "      <td>4372</td>\n",
       "    </tr>\n",
       "    <tr>\n",
       "      <th>3</th>\n",
       "      <td>1.55</td>\n",
       "      <td>4</td>\n",
       "      <td>2</td>\n",
       "      <td>4</td>\n",
       "      <td>62.0</td>\n",
       "      <td>57.0</td>\n",
       "      <td>7.37</td>\n",
       "      <td>7.43</td>\n",
       "      <td>4.59</td>\n",
       "      <td>13665</td>\n",
       "    </tr>\n",
       "    <tr>\n",
       "      <th>4</th>\n",
       "      <td>0.30</td>\n",
       "      <td>4</td>\n",
       "      <td>3</td>\n",
       "      <td>1</td>\n",
       "      <td>61.9</td>\n",
       "      <td>57.0</td>\n",
       "      <td>4.28</td>\n",
       "      <td>4.31</td>\n",
       "      <td>2.66</td>\n",
       "      <td>422</td>\n",
       "    </tr>\n",
       "    <tr>\n",
       "      <th>...</th>\n",
       "      <td>...</td>\n",
       "      <td>...</td>\n",
       "      <td>...</td>\n",
       "      <td>...</td>\n",
       "      <td>...</td>\n",
       "      <td>...</td>\n",
       "      <td>...</td>\n",
       "      <td>...</td>\n",
       "      <td>...</td>\n",
       "      <td>...</td>\n",
       "    </tr>\n",
       "    <tr>\n",
       "      <th>40450</th>\n",
       "      <td>0.40</td>\n",
       "      <td>4</td>\n",
       "      <td>5</td>\n",
       "      <td>6</td>\n",
       "      <td>60.8</td>\n",
       "      <td>57.0</td>\n",
       "      <td>4.79</td>\n",
       "      <td>4.82</td>\n",
       "      <td>2.92</td>\n",
       "      <td>1278</td>\n",
       "    </tr>\n",
       "    <tr>\n",
       "      <th>40451</th>\n",
       "      <td>0.52</td>\n",
       "      <td>4</td>\n",
       "      <td>0</td>\n",
       "      <td>1</td>\n",
       "      <td>61.6</td>\n",
       "      <td>55.0</td>\n",
       "      <td>5.16</td>\n",
       "      <td>5.19</td>\n",
       "      <td>3.19</td>\n",
       "      <td>924</td>\n",
       "    </tr>\n",
       "    <tr>\n",
       "      <th>40452</th>\n",
       "      <td>1.00</td>\n",
       "      <td>2</td>\n",
       "      <td>5</td>\n",
       "      <td>2</td>\n",
       "      <td>59.4</td>\n",
       "      <td>63.0</td>\n",
       "      <td>6.47</td>\n",
       "      <td>6.42</td>\n",
       "      <td>3.83</td>\n",
       "      <td>5322</td>\n",
       "    </tr>\n",
       "    <tr>\n",
       "      <th>40453</th>\n",
       "      <td>0.57</td>\n",
       "      <td>2</td>\n",
       "      <td>5</td>\n",
       "      <td>4</td>\n",
       "      <td>62.9</td>\n",
       "      <td>56.0</td>\n",
       "      <td>5.31</td>\n",
       "      <td>5.35</td>\n",
       "      <td>3.35</td>\n",
       "      <td>1942</td>\n",
       "    </tr>\n",
       "    <tr>\n",
       "      <th>40454</th>\n",
       "      <td>2.09</td>\n",
       "      <td>1</td>\n",
       "      <td>0</td>\n",
       "      <td>3</td>\n",
       "      <td>57.2</td>\n",
       "      <td>64.0</td>\n",
       "      <td>8.51</td>\n",
       "      <td>8.46</td>\n",
       "      <td>4.85</td>\n",
       "      <td>11576</td>\n",
       "    </tr>\n",
       "  </tbody>\n",
       "</table>\n",
       "<p>40455 rows × 10 columns</p>\n",
       "</div>"
      ],
      "text/plain": [
       "       carat  cut  color  clarity  depth  table     x     y     z  price\n",
       "id                                                                      \n",
       "0       1.14    4      3        5   61.0   56.0  6.74  6.76  4.12   9013\n",
       "1       0.76    4      2        3   62.7   57.0  5.86  5.82  3.66   2692\n",
       "2       0.84    4      3        4   61.4   56.0  6.04  6.15  3.74   4372\n",
       "3       1.55    4      2        4   62.0   57.0  7.37  7.43  4.59  13665\n",
       "4       0.30    4      3        1   61.9   57.0  4.28  4.31  2.66    422\n",
       "...      ...  ...    ...      ...    ...    ...   ...   ...   ...    ...\n",
       "40450   0.40    4      5        6   60.8   57.0  4.79  4.82  2.92   1278\n",
       "40451   0.52    4      0        1   61.6   55.0  5.16  5.19  3.19    924\n",
       "40452   1.00    2      5        2   59.4   63.0  6.47  6.42  3.83   5322\n",
       "40453   0.57    2      5        4   62.9   56.0  5.31  5.35  3.35   1942\n",
       "40454   2.09    1      0        3   57.2   64.0  8.51  8.46  4.85  11576\n",
       "\n",
       "[40455 rows x 10 columns]"
      ]
     },
     "execution_count": 48,
     "metadata": {},
     "output_type": "execute_result"
    }
   ],
   "source": [
    "df"
   ]
  },
  {
   "cell_type": "code",
   "execution_count": 51,
   "id": "0958f059",
   "metadata": {},
   "outputs": [],
   "source": [
    "df= df.drop(['x', 'y', 'z'], axis=1)"
   ]
  },
  {
   "cell_type": "code",
   "execution_count": 54,
   "id": "10f68f66",
   "metadata": {},
   "outputs": [
    {
     "data": {
      "text/html": [
       "<div>\n",
       "<style scoped>\n",
       "    .dataframe tbody tr th:only-of-type {\n",
       "        vertical-align: middle;\n",
       "    }\n",
       "\n",
       "    .dataframe tbody tr th {\n",
       "        vertical-align: top;\n",
       "    }\n",
       "\n",
       "    .dataframe thead th {\n",
       "        text-align: right;\n",
       "    }\n",
       "</style>\n",
       "<table border=\"1\" class=\"dataframe\">\n",
       "  <thead>\n",
       "    <tr style=\"text-align: right;\">\n",
       "      <th></th>\n",
       "      <th>carat</th>\n",
       "      <th>cut</th>\n",
       "      <th>color</th>\n",
       "      <th>clarity</th>\n",
       "      <th>depth</th>\n",
       "      <th>table</th>\n",
       "      <th>price</th>\n",
       "    </tr>\n",
       "    <tr>\n",
       "      <th>id</th>\n",
       "      <th></th>\n",
       "      <th></th>\n",
       "      <th></th>\n",
       "      <th></th>\n",
       "      <th></th>\n",
       "      <th></th>\n",
       "      <th></th>\n",
       "    </tr>\n",
       "  </thead>\n",
       "  <tbody>\n",
       "    <tr>\n",
       "      <th>0</th>\n",
       "      <td>1.14</td>\n",
       "      <td>4</td>\n",
       "      <td>3</td>\n",
       "      <td>5</td>\n",
       "      <td>61.0</td>\n",
       "      <td>56.0</td>\n",
       "      <td>9013</td>\n",
       "    </tr>\n",
       "    <tr>\n",
       "      <th>1</th>\n",
       "      <td>0.76</td>\n",
       "      <td>4</td>\n",
       "      <td>2</td>\n",
       "      <td>3</td>\n",
       "      <td>62.7</td>\n",
       "      <td>57.0</td>\n",
       "      <td>2692</td>\n",
       "    </tr>\n",
       "    <tr>\n",
       "      <th>2</th>\n",
       "      <td>0.84</td>\n",
       "      <td>4</td>\n",
       "      <td>3</td>\n",
       "      <td>4</td>\n",
       "      <td>61.4</td>\n",
       "      <td>56.0</td>\n",
       "      <td>4372</td>\n",
       "    </tr>\n",
       "    <tr>\n",
       "      <th>3</th>\n",
       "      <td>1.55</td>\n",
       "      <td>4</td>\n",
       "      <td>2</td>\n",
       "      <td>4</td>\n",
       "      <td>62.0</td>\n",
       "      <td>57.0</td>\n",
       "      <td>13665</td>\n",
       "    </tr>\n",
       "    <tr>\n",
       "      <th>4</th>\n",
       "      <td>0.30</td>\n",
       "      <td>4</td>\n",
       "      <td>3</td>\n",
       "      <td>1</td>\n",
       "      <td>61.9</td>\n",
       "      <td>57.0</td>\n",
       "      <td>422</td>\n",
       "    </tr>\n",
       "  </tbody>\n",
       "</table>\n",
       "</div>"
      ],
      "text/plain": [
       "    carat  cut  color  clarity  depth  table  price\n",
       "id                                                 \n",
       "0    1.14    4      3        5   61.0   56.0   9013\n",
       "1    0.76    4      2        3   62.7   57.0   2692\n",
       "2    0.84    4      3        4   61.4   56.0   4372\n",
       "3    1.55    4      2        4   62.0   57.0  13665\n",
       "4    0.30    4      3        1   61.9   57.0    422"
      ]
     },
     "execution_count": 54,
     "metadata": {},
     "output_type": "execute_result"
    }
   ],
   "source": [
    "df.head()"
   ]
  },
  {
   "cell_type": "code",
   "execution_count": 56,
   "id": "1bd337d6",
   "metadata": {},
   "outputs": [
    {
     "data": {
      "text/plain": [
       "array([56. , 57. , 58. , 55. , 61. , 59. , 53.4, 62. , 54. , 60. , 63. ,\n",
       "       66. , 64. , 65. , 55.4, 56.4, 55.7, 53. , 58.4, 67. , 56.7, 52. ,\n",
       "       53.3, 55.9, 54.8, 53.6, 57.8, 53.7, 56.6, 62.2, 63.4, 55.3, 53.9,\n",
       "       55.6, 54.4, 55.1, 56.3, 54.5, 70. , 53.2, 55.8, 56.5, 69. , 60.9,\n",
       "       57.4, 54.1, 54.6, 65.4, 60.5, 56.9, 68. , 55.2, 58.1, 59.9, 54.3,\n",
       "       61.5, 54.2, 59.8, 55.5, 56.1, 56.2, 61.2, 53.5, 58.8, 54.9, 62.5,\n",
       "       60.2, 54.7, 57.3, 63.5, 61.4, 51. , 59.6, 57.2, 57.1, 60.8, 60.7,\n",
       "       57.5, 60.1, 57.9, 61.9, 60.3, 58.5, 59.7, 58.9, 59.1, 58.6, 59.2,\n",
       "       61.7, 53.8, 57.6, 52.8, 57.7, 59.4, 60.6, 56.8, 60.4, 59.5, 58.2,\n",
       "       59.3, 61.8, 61.3, 64.3, 73. , 53.1, 64.2, 76. , 79. , 63.3, 50. ,\n",
       "       49. , 52.4, 50.1, 43. , 62.1, 62.8, 62.3, 58.3, 58.7, 95. , 62.6,\n",
       "       71. ])"
      ]
     },
     "execution_count": 56,
     "metadata": {},
     "output_type": "execute_result"
    }
   ],
   "source": [
    "df.table.unique()"
   ]
  },
  {
   "cell_type": "code",
   "execution_count": 74,
   "id": "acdc69d1",
   "metadata": {},
   "outputs": [],
   "source": [
    "X = df.drop('price', axis=1)\n",
    "y = df['price']"
   ]
  },
  {
   "cell_type": "code",
   "execution_count": 78,
   "id": "4d0d1415",
   "metadata": {},
   "outputs": [],
   "source": [
    "modelo=LinReg()"
   ]
  },
  {
   "cell_type": "code",
   "execution_count": 79,
   "id": "b9a39367",
   "metadata": {},
   "outputs": [],
   "source": [
    "X_train, X_test, y_train, y_test = tts(X,y, test_size=0.2)"
   ]
  },
  {
   "cell_type": "code",
   "execution_count": 80,
   "id": "d0e693d5",
   "metadata": {},
   "outputs": [
    {
     "data": {
      "text/plain": [
       "LinearRegression()"
      ]
     },
     "execution_count": 80,
     "metadata": {},
     "output_type": "execute_result"
    }
   ],
   "source": [
    "modelo.fit(X,y)"
   ]
  },
  {
   "cell_type": "code",
   "execution_count": 81,
   "id": "4a297644",
   "metadata": {},
   "outputs": [],
   "source": [
    "y_pred = modelo.predict(X_test)"
   ]
  },
  {
   "cell_type": "code",
   "execution_count": 82,
   "id": "6d059c43",
   "metadata": {},
   "outputs": [
    {
     "name": "stdout",
     "output_type": "stream",
     "text": [
      "RMSE - Raiz Error Cuadratico Medio 1187.6334547514355\n"
     ]
    }
   ],
   "source": [
    "print('RMSE - Raiz Error Cuadratico Medio', np.sqrt(metrics.mean_squared_error(y_test, y_pred)))"
   ]
  },
  {
   "cell_type": "code",
   "execution_count": 85,
   "id": "a759955b",
   "metadata": {},
   "outputs": [],
   "source": [
    "models={\n",
    "    'ridge': Ridge(),\n",
    "    'lasso': Lasso(),\n",
    "    'sgd': SGDRegressor(),\n",
    "    'knn': KNeighborsRegressor(),\n",
    "    'grad': GradientBoostingRegressor(),\n",
    "}"
   ]
  },
  {
   "cell_type": "code",
   "execution_count": 86,
   "id": "93580970",
   "metadata": {},
   "outputs": [
    {
     "name": "stdout",
     "output_type": "stream",
     "text": [
      "ENTRENANDO:  ridge\n",
      "ENTRENANDO:  lasso\n",
      "ENTRENANDO:  sgd\n",
      "ENTRENANDO:  knn\n",
      "ENTRENANDO:  grad\n"
     ]
    }
   ],
   "source": [
    "for name, model in models.items():\n",
    "    print(\"ENTRENANDO: \", name)\n",
    "    model.fit(X_train, y_train)"
   ]
  },
  {
   "cell_type": "code",
   "execution_count": 87,
   "id": "a5dfc594",
   "metadata": {},
   "outputs": [
    {
     "name": "stdout",
     "output_type": "stream",
     "text": [
      "------ridge------\n",
      "RMSE -  1188.2471120384434\n",
      "------lasso------\n",
      "RMSE -  1188.1575238070177\n",
      "------sgd------\n",
      "RMSE -  16085390.465134399\n",
      "------knn------\n",
      "RMSE -  1847.6409149071037\n",
      "------grad------\n",
      "RMSE -  626.661227301859\n"
     ]
    }
   ],
   "source": [
    "for name, model in models.items():\n",
    "    y_pred = model.predict(X_test)\n",
    "    print(f\"------{name}------\")    \n",
    "    print('RMSE - ', np.sqrt(metrics.mean_squared_error(y_test, y_pred)))"
   ]
  },
  {
   "cell_type": "code",
   "execution_count": 225,
   "id": "886db970",
   "metadata": {},
   "outputs": [],
   "source": [
    "from sklearn.preprocessing import StandardScaler\n",
    "from sklearn.preprocessing import MinMaxScaler\n",
    "min_max = MinMaxScaler()\n",
    "scaler = StandardScaler()"
   ]
  },
  {
   "cell_type": "code",
   "execution_count": 226,
   "id": "84865027",
   "metadata": {},
   "outputs": [],
   "source": [
    "df2=df"
   ]
  },
  {
   "cell_type": "code",
   "execution_count": 227,
   "id": "698a3d94",
   "metadata": {},
   "outputs": [],
   "source": [
    "df2[\"table\"] = min_max.fit_transform(df2[\"table\"].values.reshape(-1,1))"
   ]
  },
  {
   "cell_type": "code",
   "execution_count": 228,
   "id": "7b8310d4",
   "metadata": {},
   "outputs": [],
   "source": [
    "df2[\"depth\"] = scaler.fit_transform(df2[\"depth\"].values.reshape(-1,1))"
   ]
  },
  {
   "cell_type": "code",
   "execution_count": 229,
   "id": "b995e441",
   "metadata": {},
   "outputs": [],
   "source": [
    "X = df2.drop('price', axis=1)\n",
    "y = df2['price']\n",
    "modelo=LinReg()\n",
    "X_train, X_test, y_train, y_test = tts(X,y, test_size=0.2)\n",
    "modelo.fit(X,y)\n",
    "y_pred = modelo.predict(X_test)"
   ]
  },
  {
   "cell_type": "code",
   "execution_count": 230,
   "id": "d85386e3",
   "metadata": {},
   "outputs": [
    {
     "name": "stdout",
     "output_type": "stream",
     "text": [
      "RMSE - Raiz Error Cuadratico Medio 1228.8929589248469\n"
     ]
    }
   ],
   "source": [
    "print('RMSE - Raiz Error Cuadratico Medio', np.sqrt(metrics.mean_squared_error(y_test, y_pred)))"
   ]
  },
  {
   "cell_type": "code",
   "execution_count": 231,
   "id": "5b5e6995",
   "metadata": {},
   "outputs": [],
   "source": [
    "models={\n",
    "    'ridge': Ridge(),\n",
    "    'lasso': Lasso(),\n",
    "    'sgd': SGDRegressor(),\n",
    "    'knn': KNeighborsRegressor(),\n",
    "    'grad': GradientBoostingRegressor(),\n",
    "}"
   ]
  },
  {
   "cell_type": "code",
   "execution_count": 232,
   "id": "f664ceaa",
   "metadata": {},
   "outputs": [
    {
     "name": "stdout",
     "output_type": "stream",
     "text": [
      "ENTRENANDO:  ridge\n",
      "ENTRENANDO:  lasso\n",
      "ENTRENANDO:  sgd\n",
      "ENTRENANDO:  knn\n",
      "ENTRENANDO:  grad\n"
     ]
    }
   ],
   "source": [
    "for name, model in models.items():\n",
    "    print(\"ENTRENANDO: \", name)\n",
    "    model.fit(X_train, y_train)"
   ]
  },
  {
   "cell_type": "code",
   "execution_count": 233,
   "id": "87d60d17",
   "metadata": {},
   "outputs": [
    {
     "name": "stdout",
     "output_type": "stream",
     "text": [
      "------ridge------\n",
      "RMSE -  1229.249091227784\n",
      "------lasso------\n",
      "RMSE -  1229.1838843528708\n",
      "------sgd------\n",
      "RMSE -  1230.5984370390236\n",
      "------knn------\n",
      "RMSE -  1044.4246884140948\n",
      "------grad------\n",
      "RMSE -  614.1686445594403\n"
     ]
    }
   ],
   "source": [
    "for name, model in models.items():\n",
    "    y_pred = model.predict(X_test)\n",
    "    print(f\"------{name}------\")    \n",
    "    print('RMSE - ', np.sqrt(metrics.mean_squared_error(y_test, y_pred)))"
   ]
  },
  {
   "cell_type": "code",
   "execution_count": null,
   "id": "c75147d1",
   "metadata": {},
   "outputs": [],
   "source": []
  }
 ],
 "metadata": {
  "kernelspec": {
   "display_name": "Ironhack",
   "language": "python",
   "name": "ironhack"
  },
  "language_info": {
   "codemirror_mode": {
    "name": "ipython",
    "version": 3
   },
   "file_extension": ".py",
   "mimetype": "text/x-python",
   "name": "python",
   "nbconvert_exporter": "python",
   "pygments_lexer": "ipython3",
   "version": "3.8.12"
  }
 },
 "nbformat": 4,
 "nbformat_minor": 5
}
