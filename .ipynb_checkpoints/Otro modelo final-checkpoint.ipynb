{
 "cells": [
  {
   "cell_type": "code",
   "execution_count": 639,
   "id": "c758bbc4",
   "metadata": {},
   "outputs": [],
   "source": [
    "import h2o\n",
    "from h2o.automl import H2OAutoML\n",
    "from h2o.estimators.glm import H2OGeneralizedLinearEstimator\n",
    "import xgboost as xg\n",
    "from xgboost import XGBRegressor\n",
    "from h2o.automl import H2OAutoML\n",
    "from sklearn.preprocessing import StandardScaler\n",
    "from sklearn.preprocessing import MinMaxScaler\n",
    "min_max = MinMaxScaler()\n",
    "scaler = StandardScaler()\n",
    "import pandas as pd"
   ]
  },
  {
   "cell_type": "code",
   "execution_count": 640,
   "id": "ca1ea649",
   "metadata": {},
   "outputs": [
    {
     "name": "stdout",
     "output_type": "stream",
     "text": [
      "Checking whether there is an H2O instance running at http://localhost:54321 . connected.\n"
     ]
    },
    {
     "data": {
      "text/html": [
       "<div style=\"overflow:auto\"><table style=\"width:50%\"><tr><td>H2O_cluster_uptime:</td>\n",
       "<td>4 hours 18 mins</td></tr>\n",
       "<tr><td>H2O_cluster_timezone:</td>\n",
       "<td>Europe/Madrid</td></tr>\n",
       "<tr><td>H2O_data_parsing_timezone:</td>\n",
       "<td>UTC</td></tr>\n",
       "<tr><td>H2O_cluster_version:</td>\n",
       "<td>3.34.0.3</td></tr>\n",
       "<tr><td>H2O_cluster_version_age:</td>\n",
       "<td>1 month and 28 days </td></tr>\n",
       "<tr><td>H2O_cluster_name:</td>\n",
       "<td>H2O_from_python_eduardo_ghpq7k</td></tr>\n",
       "<tr><td>H2O_cluster_total_nodes:</td>\n",
       "<td>1</td></tr>\n",
       "<tr><td>H2O_cluster_free_memory:</td>\n",
       "<td>911 Mb</td></tr>\n",
       "<tr><td>H2O_cluster_total_cores:</td>\n",
       "<td>8</td></tr>\n",
       "<tr><td>H2O_cluster_allowed_cores:</td>\n",
       "<td>8</td></tr>\n",
       "<tr><td>H2O_cluster_status:</td>\n",
       "<td>locked, healthy</td></tr>\n",
       "<tr><td>H2O_connection_url:</td>\n",
       "<td>http://localhost:54321</td></tr>\n",
       "<tr><td>H2O_connection_proxy:</td>\n",
       "<td>{\"http\": null, \"https\": null}</td></tr>\n",
       "<tr><td>H2O_internal_security:</td>\n",
       "<td>False</td></tr>\n",
       "<tr><td>H2O_API_Extensions:</td>\n",
       "<td>Amazon S3, XGBoost, Algos, AutoML, Core V3, TargetEncoder, Core V4</td></tr>\n",
       "<tr><td>Python_version:</td>\n",
       "<td>3.8.12 final</td></tr></table></div>"
      ],
      "text/plain": [
       "--------------------------  ------------------------------------------------------------------\n",
       "H2O_cluster_uptime:         4 hours 18 mins\n",
       "H2O_cluster_timezone:       Europe/Madrid\n",
       "H2O_data_parsing_timezone:  UTC\n",
       "H2O_cluster_version:        3.34.0.3\n",
       "H2O_cluster_version_age:    1 month and 28 days\n",
       "H2O_cluster_name:           H2O_from_python_eduardo_ghpq7k\n",
       "H2O_cluster_total_nodes:    1\n",
       "H2O_cluster_free_memory:    911 Mb\n",
       "H2O_cluster_total_cores:    8\n",
       "H2O_cluster_allowed_cores:  8\n",
       "H2O_cluster_status:         locked, healthy\n",
       "H2O_connection_url:         http://localhost:54321\n",
       "H2O_connection_proxy:       {\"http\": null, \"https\": null}\n",
       "H2O_internal_security:      False\n",
       "H2O_API_Extensions:         Amazon S3, XGBoost, Algos, AutoML, Core V3, TargetEncoder, Core V4\n",
       "Python_version:             3.8.12 final\n",
       "--------------------------  ------------------------------------------------------------------"
      ]
     },
     "metadata": {},
     "output_type": "display_data"
    }
   ],
   "source": [
    "h2o.init()"
   ]
  },
  {
   "cell_type": "code",
   "execution_count": 643,
   "id": "09f2f178",
   "metadata": {},
   "outputs": [],
   "source": [
    "df=pd.read_csv('train.csv')"
   ]
  },
  {
   "cell_type": "code",
   "execution_count": 644,
   "id": "1f9f07bf",
   "metadata": {},
   "outputs": [],
   "source": [
    "df=df.set_index('id')"
   ]
  },
  {
   "cell_type": "code",
   "execution_count": 650,
   "id": "6ef36d68",
   "metadata": {},
   "outputs": [
    {
     "name": "stdout",
     "output_type": "stream",
     "text": [
      "Parse progress: |████████████████████████████████████████████████████████████████| (done) 100%\n"
     ]
    }
   ],
   "source": [
    "train= h2o.H2OFrame(df)"
   ]
  },
  {
   "cell_type": "code",
   "execution_count": 651,
   "id": "93e7e240",
   "metadata": {},
   "outputs": [
    {
     "data": {
      "text/html": [
       "<table>\n",
       "<thead>\n",
       "<tr><th style=\"text-align: right;\">  carat</th><th>cut      </th><th>color  </th><th>clarity  </th><th style=\"text-align: right;\">  depth</th><th style=\"text-align: right;\">  table</th><th style=\"text-align: right;\">   x</th><th style=\"text-align: right;\">   y</th><th style=\"text-align: right;\">   z</th><th style=\"text-align: right;\">  price</th></tr>\n",
       "</thead>\n",
       "<tbody>\n",
       "<tr><td style=\"text-align: right;\">   1.14</td><td>Ideal    </td><td>G      </td><td>VVS2     </td><td style=\"text-align: right;\">   61  </td><td style=\"text-align: right;\">     56</td><td style=\"text-align: right;\">6.74</td><td style=\"text-align: right;\">6.76</td><td style=\"text-align: right;\">4.12</td><td style=\"text-align: right;\">   9013</td></tr>\n",
       "<tr><td style=\"text-align: right;\">   0.76</td><td>Ideal    </td><td>H      </td><td>VS2      </td><td style=\"text-align: right;\">   62.7</td><td style=\"text-align: right;\">     57</td><td style=\"text-align: right;\">5.86</td><td style=\"text-align: right;\">5.82</td><td style=\"text-align: right;\">3.66</td><td style=\"text-align: right;\">   2692</td></tr>\n",
       "<tr><td style=\"text-align: right;\">   0.84</td><td>Ideal    </td><td>G      </td><td>VS1      </td><td style=\"text-align: right;\">   61.4</td><td style=\"text-align: right;\">     56</td><td style=\"text-align: right;\">6.04</td><td style=\"text-align: right;\">6.15</td><td style=\"text-align: right;\">3.74</td><td style=\"text-align: right;\">   4372</td></tr>\n",
       "<tr><td style=\"text-align: right;\">   1.55</td><td>Ideal    </td><td>H      </td><td>VS1      </td><td style=\"text-align: right;\">   62  </td><td style=\"text-align: right;\">     57</td><td style=\"text-align: right;\">7.37</td><td style=\"text-align: right;\">7.43</td><td style=\"text-align: right;\">4.59</td><td style=\"text-align: right;\">  13665</td></tr>\n",
       "<tr><td style=\"text-align: right;\">   0.3 </td><td>Ideal    </td><td>G      </td><td>SI2      </td><td style=\"text-align: right;\">   61.9</td><td style=\"text-align: right;\">     57</td><td style=\"text-align: right;\">4.28</td><td style=\"text-align: right;\">4.31</td><td style=\"text-align: right;\">2.66</td><td style=\"text-align: right;\">    422</td></tr>\n",
       "<tr><td style=\"text-align: right;\">   0.4 </td><td>Ideal    </td><td>F      </td><td>VVS2     </td><td style=\"text-align: right;\">   62.4</td><td style=\"text-align: right;\">     56</td><td style=\"text-align: right;\">4.72</td><td style=\"text-align: right;\">4.74</td><td style=\"text-align: right;\">2.95</td><td style=\"text-align: right;\">   1088</td></tr>\n",
       "<tr><td style=\"text-align: right;\">   1.52</td><td>Fair     </td><td>J      </td><td>VS1      </td><td style=\"text-align: right;\">   65.4</td><td style=\"text-align: right;\">     58</td><td style=\"text-align: right;\">7.22</td><td style=\"text-align: right;\">7.17</td><td style=\"text-align: right;\">4.7 </td><td style=\"text-align: right;\">   7186</td></tr>\n",
       "<tr><td style=\"text-align: right;\">   1.13</td><td>Ideal    </td><td>F      </td><td>SI1      </td><td style=\"text-align: right;\">   59.7</td><td style=\"text-align: right;\">     57</td><td style=\"text-align: right;\">6.82</td><td style=\"text-align: right;\">6.79</td><td style=\"text-align: right;\">4.06</td><td style=\"text-align: right;\">   5342</td></tr>\n",
       "<tr><td style=\"text-align: right;\">   0.41</td><td>Ideal    </td><td>E      </td><td>VVS1     </td><td style=\"text-align: right;\">   61.9</td><td style=\"text-align: right;\">     55</td><td style=\"text-align: right;\">4.78</td><td style=\"text-align: right;\">4.79</td><td style=\"text-align: right;\">2.96</td><td style=\"text-align: right;\">   1367</td></tr>\n",
       "<tr><td style=\"text-align: right;\">   0.24</td><td>Very Good</td><td>F      </td><td>VVS2     </td><td style=\"text-align: right;\">   62  </td><td style=\"text-align: right;\">     58</td><td style=\"text-align: right;\">3.95</td><td style=\"text-align: right;\">3.98</td><td style=\"text-align: right;\">2.46</td><td style=\"text-align: right;\">    552</td></tr>\n",
       "</tbody>\n",
       "</table>"
      ]
     },
     "metadata": {},
     "output_type": "display_data"
    },
    {
     "data": {
      "text/plain": []
     },
     "execution_count": 651,
     "metadata": {},
     "output_type": "execute_result"
    }
   ],
   "source": [
    "train"
   ]
  },
  {
   "cell_type": "code",
   "execution_count": 652,
   "id": "ca239e6b",
   "metadata": {},
   "outputs": [],
   "source": [
    "X = list(train.drop('price', axis=1).columns)\n",
    "y = 'price'"
   ]
  },
  {
   "cell_type": "code",
   "execution_count": 653,
   "id": "13d70b83",
   "metadata": {},
   "outputs": [],
   "source": [
    "m =  H2OAutoML(max_runtime_secs= 500,max_models=100, stopping_metric='RMSE', sort_metric='RMSE',preprocessing = [\"target_encoding\"] )"
   ]
  },
  {
   "cell_type": "code",
   "execution_count": 654,
   "id": "f52a9694",
   "metadata": {},
   "outputs": [
    {
     "name": "stdout",
     "output_type": "stream",
     "text": [
      "AutoML progress: |███████████████████████████████████████████████████████████████| (done) 100%\n",
      "Model Details\n",
      "=============\n",
      "H2OStackedEnsembleEstimator :  Stacked Ensemble\n",
      "Model Key:  StackedEnsemble_AllModels_2_AutoML_13_20211206_21048\n",
      "\n",
      "No model summary for this model\n",
      "\n",
      "ModelMetricsRegressionGLM: stackedensemble\n",
      "** Reported on train data. **\n",
      "\n",
      "MSE: 213385.6401030728\n",
      "RMSE: 461.9368356204913\n",
      "MAE: 238.50352594517543\n",
      "RMSLE: 0.08895102951925075\n",
      "R^2: 0.9867342429894209\n",
      "Mean Residual Deviance: 213385.6401030728\n",
      "Null degrees of freedom: 10069\n",
      "Residual degrees of freedom: 10063\n",
      "Null deviance: 161980990609.50812\n",
      "Residual deviance: 2148793395.837943\n",
      "AIC: 152160.9452474363\n",
      "\n",
      "ModelMetricsRegressionGLM: stackedensemble\n",
      "** Reported on cross-validation data. **\n",
      "\n",
      "MSE: 276525.14125843253\n",
      "RMSE: 525.8565786014591\n",
      "MAE: 268.34405272588145\n",
      "RMSLE: 0.09635354949228465\n",
      "R^2: 0.982673610699179\n",
      "Mean Residual Deviance: 276525.14125843253\n",
      "Null degrees of freedom: 40454\n",
      "Residual degrees of freedom: 40448\n",
      "Null deviance: 645665730267.7083\n",
      "Residual deviance: 11186824589.609888\n",
      "AIC: 621725.7735710569\n"
     ]
    },
    {
     "data": {
      "text/plain": []
     },
     "execution_count": 654,
     "metadata": {},
     "output_type": "execute_result"
    }
   ],
   "source": [
    "m.train(X, y='price', training_frame= train)"
   ]
  },
  {
   "cell_type": "code",
   "execution_count": 655,
   "id": "ed2cda21",
   "metadata": {},
   "outputs": [
    {
     "data": {
      "text/html": [
       "<table>\n",
       "<thead>\n",
       "<tr><th>model_id                                               </th><th style=\"text-align: right;\">   rmse</th><th style=\"text-align: right;\">  mean_residual_deviance</th><th style=\"text-align: right;\">   mse</th><th style=\"text-align: right;\">    mae</th><th style=\"text-align: right;\">      rmsle</th></tr>\n",
       "</thead>\n",
       "<tbody>\n",
       "<tr><td>StackedEnsemble_AllModels_2_AutoML_13_20211206_21048   </td><td style=\"text-align: right;\">525.857</td><td style=\"text-align: right;\">                  276525</td><td style=\"text-align: right;\">276525</td><td style=\"text-align: right;\">268.344</td><td style=\"text-align: right;\">  0.0963535</td></tr>\n",
       "<tr><td>StackedEnsemble_AllModels_1_AutoML_13_20211206_21048   </td><td style=\"text-align: right;\">525.894</td><td style=\"text-align: right;\">                  276564</td><td style=\"text-align: right;\">276564</td><td style=\"text-align: right;\">268.41 </td><td style=\"text-align: right;\">  0.0963466</td></tr>\n",
       "<tr><td>StackedEnsemble_BestOfFamily_3_AutoML_13_20211206_21048</td><td style=\"text-align: right;\">527.401</td><td style=\"text-align: right;\">                  278152</td><td style=\"text-align: right;\">278152</td><td style=\"text-align: right;\">268.564</td><td style=\"text-align: right;\">  0.0957049</td></tr>\n",
       "<tr><td>StackedEnsemble_BestOfFamily_2_AutoML_13_20211206_21048</td><td style=\"text-align: right;\">528.177</td><td style=\"text-align: right;\">                  278971</td><td style=\"text-align: right;\">278971</td><td style=\"text-align: right;\">268.998</td><td style=\"text-align: right;\">  0.0955946</td></tr>\n",
       "<tr><td>GBM_3_AutoML_13_20211206_21048                         </td><td style=\"text-align: right;\">528.951</td><td style=\"text-align: right;\">                  279789</td><td style=\"text-align: right;\">279789</td><td style=\"text-align: right;\">271.377</td><td style=\"text-align: right;\">  0.0995548</td></tr>\n",
       "<tr><td>GBM_2_AutoML_13_20211206_21048                         </td><td style=\"text-align: right;\">534.351</td><td style=\"text-align: right;\">                  285531</td><td style=\"text-align: right;\">285531</td><td style=\"text-align: right;\">276.68 </td><td style=\"text-align: right;\">  0.102016 </td></tr>\n",
       "<tr><td>GBM_4_AutoML_13_20211206_21048                         </td><td style=\"text-align: right;\">537.718</td><td style=\"text-align: right;\">                  289141</td><td style=\"text-align: right;\">289141</td><td style=\"text-align: right;\">271.907</td><td style=\"text-align: right;\">  0.0931175</td></tr>\n",
       "<tr><td>StackedEnsemble_BestOfFamily_1_AutoML_13_20211206_21048</td><td style=\"text-align: right;\">541.26 </td><td style=\"text-align: right;\">                  292962</td><td style=\"text-align: right;\">292962</td><td style=\"text-align: right;\">270.413</td><td style=\"text-align: right;\">  0.0933956</td></tr>\n",
       "<tr><td>GBM_1_AutoML_13_20211206_21048                         </td><td style=\"text-align: right;\">543.48 </td><td style=\"text-align: right;\">                  295371</td><td style=\"text-align: right;\">295371</td><td style=\"text-align: right;\">271.748</td><td style=\"text-align: right;\">nan        </td></tr>\n",
       "<tr><td>XGBoost_2_AutoML_13_20211206_21048                     </td><td style=\"text-align: right;\">577.562</td><td style=\"text-align: right;\">                  333577</td><td style=\"text-align: right;\">333577</td><td style=\"text-align: right;\">294.121</td><td style=\"text-align: right;\">  0.101749 </td></tr>\n",
       "</tbody>\n",
       "</table>"
      ]
     },
     "metadata": {},
     "output_type": "display_data"
    },
    {
     "data": {
      "text/plain": []
     },
     "execution_count": 655,
     "metadata": {},
     "output_type": "execute_result"
    }
   ],
   "source": [
    "m.leaderboard.head()"
   ]
  },
  {
   "cell_type": "code",
   "execution_count": 656,
   "id": "5bbb0d21",
   "metadata": {},
   "outputs": [
    {
     "name": "stdout",
     "output_type": "stream",
     "text": [
      "Parse progress: |████████████████████████████████████████████████████████████████| (done) 100%\n"
     ]
    }
   ],
   "source": [
    "test = h2o.import_file('test.csv')"
   ]
  },
  {
   "cell_type": "code",
   "execution_count": 658,
   "id": "f9c6cd60",
   "metadata": {},
   "outputs": [],
   "source": [
    "test2=test.as_data_frame()"
   ]
  },
  {
   "cell_type": "code",
   "execution_count": 659,
   "id": "17ab3340",
   "metadata": {},
   "outputs": [],
   "source": [
    "test2= test2.set_index('id')"
   ]
  },
  {
   "cell_type": "code",
   "execution_count": 661,
   "id": "88495f8e",
   "metadata": {},
   "outputs": [
    {
     "name": "stdout",
     "output_type": "stream",
     "text": [
      "Parse progress: |████████████████████████████████████████████████████████████████| (done) 100%\n"
     ]
    }
   ],
   "source": [
    "test3= h2o.H2OFrame(test2)"
   ]
  },
  {
   "cell_type": "code",
   "execution_count": 662,
   "id": "3a5bed75",
   "metadata": {},
   "outputs": [
    {
     "data": {
      "text/html": [
       "<table>\n",
       "<thead>\n",
       "<tr><th style=\"text-align: right;\">  carat</th><th>cut      </th><th>color  </th><th>clarity  </th><th style=\"text-align: right;\">  depth</th><th style=\"text-align: right;\">  table</th><th style=\"text-align: right;\">   x</th><th style=\"text-align: right;\">   y</th><th style=\"text-align: right;\">   z</th></tr>\n",
       "</thead>\n",
       "<tbody>\n",
       "<tr><td style=\"text-align: right;\">   1   </td><td>Fair     </td><td>J      </td><td>SI2      </td><td style=\"text-align: right;\">   56.3</td><td style=\"text-align: right;\">     64</td><td style=\"text-align: right;\">6.58</td><td style=\"text-align: right;\">6.54</td><td style=\"text-align: right;\">3.69</td></tr>\n",
       "<tr><td style=\"text-align: right;\">   0.83</td><td>Premium  </td><td>G      </td><td>SI1      </td><td style=\"text-align: right;\">   62.3</td><td style=\"text-align: right;\">     58</td><td style=\"text-align: right;\">6.01</td><td style=\"text-align: right;\">5.97</td><td style=\"text-align: right;\">3.73</td></tr>\n",
       "<tr><td style=\"text-align: right;\">   1   </td><td>Fair     </td><td>E      </td><td>SI2      </td><td style=\"text-align: right;\">   67  </td><td style=\"text-align: right;\">     53</td><td style=\"text-align: right;\">6.19</td><td style=\"text-align: right;\">6.13</td><td style=\"text-align: right;\">4.13</td></tr>\n",
       "<tr><td style=\"text-align: right;\">   1   </td><td>Fair     </td><td>H      </td><td>SI2      </td><td style=\"text-align: right;\">   66.5</td><td style=\"text-align: right;\">     62</td><td style=\"text-align: right;\">6.19</td><td style=\"text-align: right;\">6.1 </td><td style=\"text-align: right;\">4.09</td></tr>\n",
       "<tr><td style=\"text-align: right;\">   1.2 </td><td>Very Good</td><td>I      </td><td>SI1      </td><td style=\"text-align: right;\">   62.6</td><td style=\"text-align: right;\">     57</td><td style=\"text-align: right;\">6.74</td><td style=\"text-align: right;\">6.77</td><td style=\"text-align: right;\">4.23</td></tr>\n",
       "<tr><td style=\"text-align: right;\">   0.32</td><td>Good     </td><td>I      </td><td>VS1      </td><td style=\"text-align: right;\">   63.2</td><td style=\"text-align: right;\">     54</td><td style=\"text-align: right;\">4.38</td><td style=\"text-align: right;\">4.42</td><td style=\"text-align: right;\">2.78</td></tr>\n",
       "<tr><td style=\"text-align: right;\">   0.41</td><td>Ideal    </td><td>E      </td><td>SI2      </td><td style=\"text-align: right;\">   62.8</td><td style=\"text-align: right;\">     57</td><td style=\"text-align: right;\">4.73</td><td style=\"text-align: right;\">4.7 </td><td style=\"text-align: right;\">2.96</td></tr>\n",
       "<tr><td style=\"text-align: right;\">   0.32</td><td>Ideal    </td><td>F      </td><td>VVS1     </td><td style=\"text-align: right;\">   62  </td><td style=\"text-align: right;\">     55</td><td style=\"text-align: right;\">4.41</td><td style=\"text-align: right;\">4.43</td><td style=\"text-align: right;\">2.74</td></tr>\n",
       "<tr><td style=\"text-align: right;\">   1.01</td><td>Ideal    </td><td>F      </td><td>VS1      </td><td style=\"text-align: right;\">   62.5</td><td style=\"text-align: right;\">     54</td><td style=\"text-align: right;\">6.43</td><td style=\"text-align: right;\">6.46</td><td style=\"text-align: right;\">4.03</td></tr>\n",
       "<tr><td style=\"text-align: right;\">   1.21</td><td>Premium  </td><td>I      </td><td>SI1      </td><td style=\"text-align: right;\">   61.6</td><td style=\"text-align: right;\">     58</td><td style=\"text-align: right;\">6.89</td><td style=\"text-align: right;\">6.84</td><td style=\"text-align: right;\">4.23</td></tr>\n",
       "</tbody>\n",
       "</table>"
      ]
     },
     "metadata": {},
     "output_type": "display_data"
    },
    {
     "data": {
      "text/plain": []
     },
     "execution_count": 662,
     "metadata": {},
     "output_type": "execute_result"
    }
   ],
   "source": [
    "test3"
   ]
  },
  {
   "cell_type": "code",
   "execution_count": 663,
   "id": "18256c73",
   "metadata": {},
   "outputs": [
    {
     "name": "stdout",
     "output_type": "stream",
     "text": [
      "stackedensemble prediction progress: |███████████████████████████████████████████| (done) 100%\n"
     ]
    }
   ],
   "source": [
    "predi = m.leader.predict(test)"
   ]
  },
  {
   "cell_type": "code",
   "execution_count": 664,
   "id": "8d66bbb1",
   "metadata": {},
   "outputs": [],
   "source": [
    "test4= test3.as_data_frame()"
   ]
  },
  {
   "cell_type": "code",
   "execution_count": 666,
   "id": "494f2d60",
   "metadata": {},
   "outputs": [],
   "source": [
    "test4['price']=predi.as_data_frame()"
   ]
  },
  {
   "cell_type": "code",
   "execution_count": 667,
   "id": "3d90da94",
   "metadata": {},
   "outputs": [],
   "source": [
    "test4=test4.drop(['carat', 'color', 'clarity', 'depth', 'table','cut'], axis=1)"
   ]
  },
  {
   "cell_type": "code",
   "execution_count": 668,
   "id": "f83db83d",
   "metadata": {},
   "outputs": [],
   "source": [
    "test4=test4.drop(['x','y','z'], axis=1)"
   ]
  },
  {
   "cell_type": "code",
   "execution_count": 669,
   "id": "480516d0",
   "metadata": {},
   "outputs": [],
   "source": [
    "test4=test4.reset_index()"
   ]
  },
  {
   "cell_type": "code",
   "execution_count": 670,
   "id": "85e4fa8f",
   "metadata": {},
   "outputs": [],
   "source": [
    "test4=test4.rename(columns={'index':'id'})"
   ]
  },
  {
   "cell_type": "code",
   "execution_count": 671,
   "id": "46893903",
   "metadata": {},
   "outputs": [],
   "source": [
    "test4.to_csv('preddefinitiva3.csv', index=False)"
   ]
  },
  {
   "cell_type": "code",
   "execution_count": null,
   "id": "c6a639bb",
   "metadata": {},
   "outputs": [],
   "source": []
  }
 ],
 "metadata": {
  "kernelspec": {
   "display_name": "Ironhack",
   "language": "python",
   "name": "ironhack"
  },
  "language_info": {
   "codemirror_mode": {
    "name": "ipython",
    "version": 3
   },
   "file_extension": ".py",
   "mimetype": "text/x-python",
   "name": "python",
   "nbconvert_exporter": "python",
   "pygments_lexer": "ipython3",
   "version": "3.8.12"
  }
 },
 "nbformat": 4,
 "nbformat_minor": 5
}
