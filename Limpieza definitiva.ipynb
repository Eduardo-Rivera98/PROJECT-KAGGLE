{
 "cells": [
  {
   "cell_type": "code",
   "execution_count": 370,
   "id": "df3e05e0",
   "metadata": {},
   "outputs": [],
   "source": [
    "import h2o\n",
    "from h2o.automl import H2OAutoML\n",
    "from h2o.estimators.glm import H2OGeneralizedLinearEstimator\n",
    "import xgboost as xg\n",
    "from xgboost import XGBRegressor\n",
    "from h2o.automl import H2OAutoML\n",
    "from sklearn.preprocessing import StandardScaler\n",
    "from sklearn.preprocessing import MinMaxScaler\n",
    "min_max = MinMaxScaler()\n",
    "scaler = StandardScaler()\n",
    "import pandas as pd"
   ]
  },
  {
   "cell_type": "code",
   "execution_count": 407,
   "id": "4a2c1acc",
   "metadata": {},
   "outputs": [
    {
     "name": "stdout",
     "output_type": "stream",
     "text": [
      "Checking whether there is an H2O instance running at http://localhost:54321 . connected.\n"
     ]
    },
    {
     "data": {
      "text/html": [
       "<div style=\"overflow:auto\"><table style=\"width:50%\"><tr><td>H2O_cluster_uptime:</td>\n",
       "<td>2 hours 27 mins</td></tr>\n",
       "<tr><td>H2O_cluster_timezone:</td>\n",
       "<td>Europe/Madrid</td></tr>\n",
       "<tr><td>H2O_data_parsing_timezone:</td>\n",
       "<td>UTC</td></tr>\n",
       "<tr><td>H2O_cluster_version:</td>\n",
       "<td>3.34.0.3</td></tr>\n",
       "<tr><td>H2O_cluster_version_age:</td>\n",
       "<td>1 month and 28 days </td></tr>\n",
       "<tr><td>H2O_cluster_name:</td>\n",
       "<td>H2O_from_python_eduardo_ghpq7k</td></tr>\n",
       "<tr><td>H2O_cluster_total_nodes:</td>\n",
       "<td>1</td></tr>\n",
       "<tr><td>H2O_cluster_free_memory:</td>\n",
       "<td>1.789 Gb</td></tr>\n",
       "<tr><td>H2O_cluster_total_cores:</td>\n",
       "<td>8</td></tr>\n",
       "<tr><td>H2O_cluster_allowed_cores:</td>\n",
       "<td>8</td></tr>\n",
       "<tr><td>H2O_cluster_status:</td>\n",
       "<td>locked, healthy</td></tr>\n",
       "<tr><td>H2O_connection_url:</td>\n",
       "<td>http://localhost:54321</td></tr>\n",
       "<tr><td>H2O_connection_proxy:</td>\n",
       "<td>{\"http\": null, \"https\": null}</td></tr>\n",
       "<tr><td>H2O_internal_security:</td>\n",
       "<td>False</td></tr>\n",
       "<tr><td>H2O_API_Extensions:</td>\n",
       "<td>Amazon S3, XGBoost, Algos, AutoML, Core V3, TargetEncoder, Core V4</td></tr>\n",
       "<tr><td>Python_version:</td>\n",
       "<td>3.8.12 final</td></tr></table></div>"
      ],
      "text/plain": [
       "--------------------------  ------------------------------------------------------------------\n",
       "H2O_cluster_uptime:         2 hours 27 mins\n",
       "H2O_cluster_timezone:       Europe/Madrid\n",
       "H2O_data_parsing_timezone:  UTC\n",
       "H2O_cluster_version:        3.34.0.3\n",
       "H2O_cluster_version_age:    1 month and 28 days\n",
       "H2O_cluster_name:           H2O_from_python_eduardo_ghpq7k\n",
       "H2O_cluster_total_nodes:    1\n",
       "H2O_cluster_free_memory:    1.789 Gb\n",
       "H2O_cluster_total_cores:    8\n",
       "H2O_cluster_allowed_cores:  8\n",
       "H2O_cluster_status:         locked, healthy\n",
       "H2O_connection_url:         http://localhost:54321\n",
       "H2O_connection_proxy:       {\"http\": null, \"https\": null}\n",
       "H2O_internal_security:      False\n",
       "H2O_API_Extensions:         Amazon S3, XGBoost, Algos, AutoML, Core V3, TargetEncoder, Core V4\n",
       "Python_version:             3.8.12 final\n",
       "--------------------------  ------------------------------------------------------------------"
      ]
     },
     "metadata": {},
     "output_type": "display_data"
    }
   ],
   "source": [
    "h2o.init()"
   ]
  },
  {
   "cell_type": "code",
   "execution_count": 408,
   "id": "64a9d831",
   "metadata": {},
   "outputs": [
    {
     "name": "stdout",
     "output_type": "stream",
     "text": [
      "Parse progress: |████████████████████████████████████████████████████████████████| (done) 100%\n"
     ]
    }
   ],
   "source": [
    "train= h2o.import_file('traindef.csv')"
   ]
  },
  {
   "cell_type": "code",
   "execution_count": 409,
   "id": "a851842a",
   "metadata": {},
   "outputs": [],
   "source": [
    "X = list(train.drop('price', axis=1).columns)\n",
    "y = 'price'"
   ]
  },
  {
   "cell_type": "code",
   "execution_count": 413,
   "id": "e64f48dc",
   "metadata": {},
   "outputs": [],
   "source": [
    "m =  H2OAutoML(max_runtime_secs=300,stopping_metric='RMSE', sort_metric='RMSE',preprocessing = [\"target_encoding\"] )"
   ]
  },
  {
   "cell_type": "code",
   "execution_count": 414,
   "id": "6f651417",
   "metadata": {},
   "outputs": [
    {
     "name": "stdout",
     "output_type": "stream",
     "text": [
      "AutoML progress: |███████████████████████████████████████████████████████████████| (done) 100%\n",
      "Model Details\n",
      "=============\n",
      "H2OStackedEnsembleEstimator :  Stacked Ensemble\n",
      "Model Key:  StackedEnsemble_AllModels_3_AutoML_11_20211206_02621\n",
      "\n",
      "No model summary for this model\n",
      "\n",
      "ModelMetricsRegressionGLM: stackedensemble\n",
      "** Reported on train data. **\n",
      "\n",
      "MSE: 159338.502646168\n",
      "RMSE: 399.1722718904308\n",
      "MAE: 211.41682252259733\n",
      "RMSLE: 0.07776871046222461\n",
      "R^2: 0.9899941426239323\n",
      "Mean Residual Deviance: 159338.502646168\n",
      "Null degrees of freedom: 10063\n",
      "Residual degrees of freedom: 10058\n",
      "Null deviance: 160265969989.71555\n",
      "Residual deviance: 1603582690.6310346\n",
      "AIC: 149128.8987675982\n",
      "\n",
      "ModelMetricsRegressionGLM: stackedensemble\n",
      "** Reported on cross-validation data. **\n",
      "\n",
      "MSE: 274551.4842317238\n",
      "RMSE: 523.976606569152\n",
      "MAE: 264.7681399646221\n",
      "RMSLE: 0.09160541380449679\n",
      "R^2: 0.9827972752232633\n",
      "Mean Residual Deviance: 274551.4842317238\n",
      "Null degrees of freedom: 40454\n",
      "Residual degrees of freedom: 40446\n",
      "Null deviance: 645665531462.6132\n",
      "Residual deviance: 11106980294.594387\n",
      "AIC: 621439.9966772167\n"
     ]
    },
    {
     "data": {
      "text/plain": []
     },
     "execution_count": 414,
     "metadata": {},
     "output_type": "execute_result"
    }
   ],
   "source": [
    "m.train(X, y='price', training_frame= train)"
   ]
  },
  {
   "cell_type": "code",
   "execution_count": 438,
   "id": "b48ebcb7",
   "metadata": {},
   "outputs": [
    {
     "data": {
      "text/html": [
       "<table>\n",
       "<thead>\n",
       "<tr><th>model_id                                               </th><th style=\"text-align: right;\">   rmse</th><th style=\"text-align: right;\">  mean_residual_deviance</th><th style=\"text-align: right;\">   mse</th><th style=\"text-align: right;\">    mae</th><th style=\"text-align: right;\">    rmsle</th></tr>\n",
       "</thead>\n",
       "<tbody>\n",
       "<tr><td>StackedEnsemble_AllModels_3_AutoML_11_20211206_02621   </td><td style=\"text-align: right;\">523.977</td><td style=\"text-align: right;\">                  274551</td><td style=\"text-align: right;\">274551</td><td style=\"text-align: right;\">264.768</td><td style=\"text-align: right;\">0.0916054</td></tr>\n",
       "<tr><td>StackedEnsemble_AllModels_2_AutoML_11_20211206_02621   </td><td style=\"text-align: right;\">524.012</td><td style=\"text-align: right;\">                  274589</td><td style=\"text-align: right;\">274589</td><td style=\"text-align: right;\">264.769</td><td style=\"text-align: right;\">0.0915773</td></tr>\n",
       "<tr><td>StackedEnsemble_AllModels_1_AutoML_11_20211206_02621   </td><td style=\"text-align: right;\">525.057</td><td style=\"text-align: right;\">                  275685</td><td style=\"text-align: right;\">275685</td><td style=\"text-align: right;\">264.577</td><td style=\"text-align: right;\">0.0910893</td></tr>\n",
       "<tr><td>StackedEnsemble_BestOfFamily_3_AutoML_11_20211206_02621</td><td style=\"text-align: right;\">525.535</td><td style=\"text-align: right;\">                  276187</td><td style=\"text-align: right;\">276187</td><td style=\"text-align: right;\">266.042</td><td style=\"text-align: right;\">0.0919687</td></tr>\n",
       "<tr><td>StackedEnsemble_BestOfFamily_4_AutoML_11_20211206_02621</td><td style=\"text-align: right;\">527.486</td><td style=\"text-align: right;\">                  278242</td><td style=\"text-align: right;\">278242</td><td style=\"text-align: right;\">264.925</td><td style=\"text-align: right;\">0.0906683</td></tr>\n",
       "<tr><td>StackedEnsemble_BestOfFamily_2_AutoML_11_20211206_02621</td><td style=\"text-align: right;\">527.841</td><td style=\"text-align: right;\">                  278616</td><td style=\"text-align: right;\">278616</td><td style=\"text-align: right;\">264.125</td><td style=\"text-align: right;\">0.0895362</td></tr>\n",
       "<tr><td>GBM_4_AutoML_11_20211206_02621                         </td><td style=\"text-align: right;\">529.338</td><td style=\"text-align: right;\">                  280198</td><td style=\"text-align: right;\">280198</td><td style=\"text-align: right;\">266.918</td><td style=\"text-align: right;\">0.0907582</td></tr>\n",
       "<tr><td>GBM_3_AutoML_11_20211206_02621                         </td><td style=\"text-align: right;\">531.87 </td><td style=\"text-align: right;\">                  282885</td><td style=\"text-align: right;\">282885</td><td style=\"text-align: right;\">271.611</td><td style=\"text-align: right;\">0.0968181</td></tr>\n",
       "<tr><td>GBM_5_AutoML_11_20211206_02621                         </td><td style=\"text-align: right;\">534.853</td><td style=\"text-align: right;\">                  286068</td><td style=\"text-align: right;\">286068</td><td style=\"text-align: right;\">279.112</td><td style=\"text-align: right;\">0.102976 </td></tr>\n",
       "<tr><td>GBM_2_AutoML_11_20211206_02621                         </td><td style=\"text-align: right;\">535.361</td><td style=\"text-align: right;\">                  286611</td><td style=\"text-align: right;\">286611</td><td style=\"text-align: right;\">276.229</td><td style=\"text-align: right;\">0.101138 </td></tr>\n",
       "</tbody>\n",
       "</table>"
      ]
     },
     "metadata": {},
     "output_type": "display_data"
    },
    {
     "data": {
      "text/plain": []
     },
     "execution_count": 438,
     "metadata": {},
     "output_type": "execute_result"
    }
   ],
   "source": [
    "m.leaderboard.head()"
   ]
  },
  {
   "cell_type": "code",
   "execution_count": 439,
   "id": "7e751ba7",
   "metadata": {},
   "outputs": [
    {
     "name": "stdout",
     "output_type": "stream",
     "text": [
      "Model Details\n",
      "=============\n",
      "H2OStackedEnsembleEstimator :  Stacked Ensemble\n",
      "Model Key:  StackedEnsemble_AllModels_3_AutoML_11_20211206_02621\n",
      "\n",
      "No model summary for this model\n",
      "\n",
      "ModelMetricsRegressionGLM: stackedensemble\n",
      "** Reported on train data. **\n",
      "\n",
      "MSE: 159338.502646168\n",
      "RMSE: 399.1722718904308\n",
      "MAE: 211.41682252259733\n",
      "RMSLE: 0.07776871046222461\n",
      "R^2: 0.9899941426239323\n",
      "Mean Residual Deviance: 159338.502646168\n",
      "Null degrees of freedom: 10063\n",
      "Residual degrees of freedom: 10058\n",
      "Null deviance: 160265969989.71555\n",
      "Residual deviance: 1603582690.6310346\n",
      "AIC: 149128.8987675982\n",
      "\n",
      "ModelMetricsRegressionGLM: stackedensemble\n",
      "** Reported on cross-validation data. **\n",
      "\n",
      "MSE: 274551.4842317238\n",
      "RMSE: 523.976606569152\n",
      "MAE: 264.7681399646221\n",
      "RMSLE: 0.09160541380449679\n",
      "R^2: 0.9827972752232633\n",
      "Mean Residual Deviance: 274551.4842317238\n",
      "Null degrees of freedom: 40454\n",
      "Residual degrees of freedom: 40446\n",
      "Null deviance: 645665531462.6132\n",
      "Residual deviance: 11106980294.594387\n",
      "AIC: 621439.9966772167\n"
     ]
    },
    {
     "data": {
      "text/plain": []
     },
     "execution_count": 439,
     "metadata": {},
     "output_type": "execute_result"
    }
   ],
   "source": [
    "m.leader"
   ]
  },
  {
   "cell_type": "code",
   "execution_count": 440,
   "id": "f7c0788b",
   "metadata": {},
   "outputs": [
    {
     "name": "stdout",
     "output_type": "stream",
     "text": [
      "Parse progress: |████████████████████████████████████████████████████████████████| (done) 100%\n"
     ]
    }
   ],
   "source": [
    "test = h2o.import_file('testdef.csv')"
   ]
  },
  {
   "cell_type": "code",
   "execution_count": 441,
   "id": "b235681d",
   "metadata": {},
   "outputs": [
    {
     "data": {
      "text/html": [
       "<table>\n",
       "<thead>\n",
       "<tr><th style=\"text-align: right;\">  carat</th><th style=\"text-align: right;\">  cut</th><th style=\"text-align: right;\">  color</th><th style=\"text-align: right;\">  clarity</th><th style=\"text-align: right;\">  depth</th><th style=\"text-align: right;\">  table</th><th style=\"text-align: right;\">   x</th><th style=\"text-align: right;\">   y</th><th style=\"text-align: right;\">   z</th></tr>\n",
       "</thead>\n",
       "<tbody>\n",
       "<tr><td style=\"text-align: right;\">   1   </td><td style=\"text-align: right;\">    5</td><td style=\"text-align: right;\">      7</td><td style=\"text-align: right;\">        2</td><td style=\"text-align: right;\">   56.3</td><td style=\"text-align: right;\">     64</td><td style=\"text-align: right;\">6.58</td><td style=\"text-align: right;\">6.54</td><td style=\"text-align: right;\">3.69</td></tr>\n",
       "<tr><td style=\"text-align: right;\">   0.83</td><td style=\"text-align: right;\">    2</td><td style=\"text-align: right;\">      4</td><td style=\"text-align: right;\">        3</td><td style=\"text-align: right;\">   62.3</td><td style=\"text-align: right;\">     58</td><td style=\"text-align: right;\">6.01</td><td style=\"text-align: right;\">5.97</td><td style=\"text-align: right;\">3.73</td></tr>\n",
       "<tr><td style=\"text-align: right;\">   1   </td><td style=\"text-align: right;\">    5</td><td style=\"text-align: right;\">      2</td><td style=\"text-align: right;\">        2</td><td style=\"text-align: right;\">   67  </td><td style=\"text-align: right;\">     53</td><td style=\"text-align: right;\">6.19</td><td style=\"text-align: right;\">6.13</td><td style=\"text-align: right;\">4.13</td></tr>\n",
       "<tr><td style=\"text-align: right;\">   1   </td><td style=\"text-align: right;\">    5</td><td style=\"text-align: right;\">      5</td><td style=\"text-align: right;\">        2</td><td style=\"text-align: right;\">   66.5</td><td style=\"text-align: right;\">     62</td><td style=\"text-align: right;\">6.19</td><td style=\"text-align: right;\">6.1 </td><td style=\"text-align: right;\">4.09</td></tr>\n",
       "<tr><td style=\"text-align: right;\">   1.2 </td><td style=\"text-align: right;\">    3</td><td style=\"text-align: right;\">      6</td><td style=\"text-align: right;\">        3</td><td style=\"text-align: right;\">   62.6</td><td style=\"text-align: right;\">     57</td><td style=\"text-align: right;\">6.74</td><td style=\"text-align: right;\">6.77</td><td style=\"text-align: right;\">4.23</td></tr>\n",
       "<tr><td style=\"text-align: right;\">   0.32</td><td style=\"text-align: right;\">    4</td><td style=\"text-align: right;\">      6</td><td style=\"text-align: right;\">        5</td><td style=\"text-align: right;\">   63.2</td><td style=\"text-align: right;\">     54</td><td style=\"text-align: right;\">4.38</td><td style=\"text-align: right;\">4.42</td><td style=\"text-align: right;\">2.78</td></tr>\n",
       "<tr><td style=\"text-align: right;\">   0.41</td><td style=\"text-align: right;\">    1</td><td style=\"text-align: right;\">      2</td><td style=\"text-align: right;\">        2</td><td style=\"text-align: right;\">   62.8</td><td style=\"text-align: right;\">     57</td><td style=\"text-align: right;\">4.73</td><td style=\"text-align: right;\">4.7 </td><td style=\"text-align: right;\">2.96</td></tr>\n",
       "<tr><td style=\"text-align: right;\">   0.32</td><td style=\"text-align: right;\">    1</td><td style=\"text-align: right;\">      3</td><td style=\"text-align: right;\">        7</td><td style=\"text-align: right;\">   62  </td><td style=\"text-align: right;\">     55</td><td style=\"text-align: right;\">4.41</td><td style=\"text-align: right;\">4.43</td><td style=\"text-align: right;\">2.74</td></tr>\n",
       "<tr><td style=\"text-align: right;\">   1.01</td><td style=\"text-align: right;\">    1</td><td style=\"text-align: right;\">      3</td><td style=\"text-align: right;\">        5</td><td style=\"text-align: right;\">   62.5</td><td style=\"text-align: right;\">     54</td><td style=\"text-align: right;\">6.43</td><td style=\"text-align: right;\">6.46</td><td style=\"text-align: right;\">4.03</td></tr>\n",
       "<tr><td style=\"text-align: right;\">   1.21</td><td style=\"text-align: right;\">    2</td><td style=\"text-align: right;\">      6</td><td style=\"text-align: right;\">        3</td><td style=\"text-align: right;\">   61.6</td><td style=\"text-align: right;\">     58</td><td style=\"text-align: right;\">6.89</td><td style=\"text-align: right;\">6.84</td><td style=\"text-align: right;\">4.23</td></tr>\n",
       "</tbody>\n",
       "</table>"
      ]
     },
     "metadata": {},
     "output_type": "display_data"
    },
    {
     "data": {
      "text/plain": []
     },
     "execution_count": 441,
     "metadata": {},
     "output_type": "execute_result"
    }
   ],
   "source": [
    "test"
   ]
  },
  {
   "cell_type": "code",
   "execution_count": 442,
   "id": "ff110cbc",
   "metadata": {},
   "outputs": [
    {
     "name": "stdout",
     "output_type": "stream",
     "text": [
      "stackedensemble prediction progress: |███████████████████████████████████████████| (done) 100%\n"
     ]
    }
   ],
   "source": [
    "predi = m.leader.predict(test)"
   ]
  },
  {
   "cell_type": "code",
   "execution_count": 443,
   "id": "fa0e0228",
   "metadata": {},
   "outputs": [],
   "source": [
    "test3= test.as_data_frame()"
   ]
  },
  {
   "cell_type": "code",
   "execution_count": 444,
   "id": "0b0f2ba4",
   "metadata": {},
   "outputs": [
    {
     "data": {
      "text/html": [
       "<div>\n",
       "<style scoped>\n",
       "    .dataframe tbody tr th:only-of-type {\n",
       "        vertical-align: middle;\n",
       "    }\n",
       "\n",
       "    .dataframe tbody tr th {\n",
       "        vertical-align: top;\n",
       "    }\n",
       "\n",
       "    .dataframe thead th {\n",
       "        text-align: right;\n",
       "    }\n",
       "</style>\n",
       "<table border=\"1\" class=\"dataframe\">\n",
       "  <thead>\n",
       "    <tr style=\"text-align: right;\">\n",
       "      <th></th>\n",
       "      <th>carat</th>\n",
       "      <th>cut</th>\n",
       "      <th>color</th>\n",
       "      <th>clarity</th>\n",
       "      <th>depth</th>\n",
       "      <th>table</th>\n",
       "      <th>x</th>\n",
       "      <th>y</th>\n",
       "      <th>z</th>\n",
       "    </tr>\n",
       "  </thead>\n",
       "  <tbody>\n",
       "    <tr>\n",
       "      <th>0</th>\n",
       "      <td>1.00</td>\n",
       "      <td>5</td>\n",
       "      <td>7</td>\n",
       "      <td>2</td>\n",
       "      <td>56.3</td>\n",
       "      <td>64.0</td>\n",
       "      <td>6.58</td>\n",
       "      <td>6.54</td>\n",
       "      <td>3.69</td>\n",
       "    </tr>\n",
       "    <tr>\n",
       "      <th>1</th>\n",
       "      <td>0.83</td>\n",
       "      <td>2</td>\n",
       "      <td>4</td>\n",
       "      <td>3</td>\n",
       "      <td>62.3</td>\n",
       "      <td>58.0</td>\n",
       "      <td>6.01</td>\n",
       "      <td>5.97</td>\n",
       "      <td>3.73</td>\n",
       "    </tr>\n",
       "    <tr>\n",
       "      <th>2</th>\n",
       "      <td>1.00</td>\n",
       "      <td>5</td>\n",
       "      <td>2</td>\n",
       "      <td>2</td>\n",
       "      <td>67.0</td>\n",
       "      <td>53.0</td>\n",
       "      <td>6.19</td>\n",
       "      <td>6.13</td>\n",
       "      <td>4.13</td>\n",
       "    </tr>\n",
       "    <tr>\n",
       "      <th>3</th>\n",
       "      <td>1.00</td>\n",
       "      <td>5</td>\n",
       "      <td>5</td>\n",
       "      <td>2</td>\n",
       "      <td>66.5</td>\n",
       "      <td>62.0</td>\n",
       "      <td>6.19</td>\n",
       "      <td>6.10</td>\n",
       "      <td>4.09</td>\n",
       "    </tr>\n",
       "    <tr>\n",
       "      <th>4</th>\n",
       "      <td>1.20</td>\n",
       "      <td>3</td>\n",
       "      <td>6</td>\n",
       "      <td>3</td>\n",
       "      <td>62.6</td>\n",
       "      <td>57.0</td>\n",
       "      <td>6.74</td>\n",
       "      <td>6.77</td>\n",
       "      <td>4.23</td>\n",
       "    </tr>\n",
       "    <tr>\n",
       "      <th>...</th>\n",
       "      <td>...</td>\n",
       "      <td>...</td>\n",
       "      <td>...</td>\n",
       "      <td>...</td>\n",
       "      <td>...</td>\n",
       "      <td>...</td>\n",
       "      <td>...</td>\n",
       "      <td>...</td>\n",
       "      <td>...</td>\n",
       "    </tr>\n",
       "    <tr>\n",
       "      <th>13480</th>\n",
       "      <td>1.00</td>\n",
       "      <td>2</td>\n",
       "      <td>3</td>\n",
       "      <td>6</td>\n",
       "      <td>61.5</td>\n",
       "      <td>59.0</td>\n",
       "      <td>6.40</td>\n",
       "      <td>6.38</td>\n",
       "      <td>3.93</td>\n",
       "    </tr>\n",
       "    <tr>\n",
       "      <th>13481</th>\n",
       "      <td>2.12</td>\n",
       "      <td>2</td>\n",
       "      <td>6</td>\n",
       "      <td>2</td>\n",
       "      <td>60.6</td>\n",
       "      <td>59.0</td>\n",
       "      <td>8.30</td>\n",
       "      <td>8.27</td>\n",
       "      <td>5.02</td>\n",
       "    </tr>\n",
       "    <tr>\n",
       "      <th>13482</th>\n",
       "      <td>1.10</td>\n",
       "      <td>1</td>\n",
       "      <td>3</td>\n",
       "      <td>4</td>\n",
       "      <td>60.7</td>\n",
       "      <td>57.0</td>\n",
       "      <td>6.66</td>\n",
       "      <td>6.70</td>\n",
       "      <td>4.05</td>\n",
       "    </tr>\n",
       "    <tr>\n",
       "      <th>13483</th>\n",
       "      <td>0.34</td>\n",
       "      <td>4</td>\n",
       "      <td>6</td>\n",
       "      <td>6</td>\n",
       "      <td>63.1</td>\n",
       "      <td>56.0</td>\n",
       "      <td>4.43</td>\n",
       "      <td>4.47</td>\n",
       "      <td>2.81</td>\n",
       "    </tr>\n",
       "    <tr>\n",
       "      <th>13484</th>\n",
       "      <td>0.37</td>\n",
       "      <td>1</td>\n",
       "      <td>4</td>\n",
       "      <td>8</td>\n",
       "      <td>61.4</td>\n",
       "      <td>55.0</td>\n",
       "      <td>4.63</td>\n",
       "      <td>4.66</td>\n",
       "      <td>2.85</td>\n",
       "    </tr>\n",
       "  </tbody>\n",
       "</table>\n",
       "<p>13485 rows × 9 columns</p>\n",
       "</div>"
      ],
      "text/plain": [
       "       carat  cut  color  clarity  depth  table     x     y     z\n",
       "0       1.00    5      7        2   56.3   64.0  6.58  6.54  3.69\n",
       "1       0.83    2      4        3   62.3   58.0  6.01  5.97  3.73\n",
       "2       1.00    5      2        2   67.0   53.0  6.19  6.13  4.13\n",
       "3       1.00    5      5        2   66.5   62.0  6.19  6.10  4.09\n",
       "4       1.20    3      6        3   62.6   57.0  6.74  6.77  4.23\n",
       "...      ...  ...    ...      ...    ...    ...   ...   ...   ...\n",
       "13480   1.00    2      3        6   61.5   59.0  6.40  6.38  3.93\n",
       "13481   2.12    2      6        2   60.6   59.0  8.30  8.27  5.02\n",
       "13482   1.10    1      3        4   60.7   57.0  6.66  6.70  4.05\n",
       "13483   0.34    4      6        6   63.1   56.0  4.43  4.47  2.81\n",
       "13484   0.37    1      4        8   61.4   55.0  4.63  4.66  2.85\n",
       "\n",
       "[13485 rows x 9 columns]"
      ]
     },
     "execution_count": 444,
     "metadata": {},
     "output_type": "execute_result"
    }
   ],
   "source": [
    "test3"
   ]
  },
  {
   "cell_type": "code",
   "execution_count": 445,
   "id": "21dfdcba",
   "metadata": {},
   "outputs": [],
   "source": [
    "test3['price']=predi.as_data_frame()"
   ]
  },
  {
   "cell_type": "code",
   "execution_count": 446,
   "id": "0a6a221b",
   "metadata": {},
   "outputs": [],
   "source": [
    "test3=test3.drop(['carat', 'color', 'clarity', 'depth', 'table','cut'], axis=1)"
   ]
  },
  {
   "cell_type": "code",
   "execution_count": 447,
   "id": "2c8a21fb",
   "metadata": {},
   "outputs": [],
   "source": [
    "test3=test3.drop(['x','y','z'], axis=1)"
   ]
  },
  {
   "cell_type": "code",
   "execution_count": 448,
   "id": "870b717f",
   "metadata": {},
   "outputs": [
    {
     "data": {
      "text/html": [
       "<div>\n",
       "<style scoped>\n",
       "    .dataframe tbody tr th:only-of-type {\n",
       "        vertical-align: middle;\n",
       "    }\n",
       "\n",
       "    .dataframe tbody tr th {\n",
       "        vertical-align: top;\n",
       "    }\n",
       "\n",
       "    .dataframe thead th {\n",
       "        text-align: right;\n",
       "    }\n",
       "</style>\n",
       "<table border=\"1\" class=\"dataframe\">\n",
       "  <thead>\n",
       "    <tr style=\"text-align: right;\">\n",
       "      <th></th>\n",
       "      <th>price</th>\n",
       "    </tr>\n",
       "  </thead>\n",
       "  <tbody>\n",
       "    <tr>\n",
       "      <th>0</th>\n",
       "      <td>2853.421949</td>\n",
       "    </tr>\n",
       "    <tr>\n",
       "      <th>1</th>\n",
       "      <td>2890.843561</td>\n",
       "    </tr>\n",
       "    <tr>\n",
       "      <th>2</th>\n",
       "      <td>3254.112568</td>\n",
       "    </tr>\n",
       "    <tr>\n",
       "      <th>3</th>\n",
       "      <td>3052.752300</td>\n",
       "    </tr>\n",
       "    <tr>\n",
       "      <th>4</th>\n",
       "      <td>5259.727676</td>\n",
       "    </tr>\n",
       "    <tr>\n",
       "      <th>...</th>\n",
       "      <td>...</td>\n",
       "    </tr>\n",
       "    <tr>\n",
       "      <th>13480</th>\n",
       "      <td>8450.577444</td>\n",
       "    </tr>\n",
       "    <tr>\n",
       "      <th>13481</th>\n",
       "      <td>14063.204242</td>\n",
       "    </tr>\n",
       "    <tr>\n",
       "      <th>13482</th>\n",
       "      <td>8071.627547</td>\n",
       "    </tr>\n",
       "    <tr>\n",
       "      <th>13483</th>\n",
       "      <td>599.114436</td>\n",
       "    </tr>\n",
       "    <tr>\n",
       "      <th>13484</th>\n",
       "      <td>1045.327025</td>\n",
       "    </tr>\n",
       "  </tbody>\n",
       "</table>\n",
       "<p>13485 rows × 1 columns</p>\n",
       "</div>"
      ],
      "text/plain": [
       "              price\n",
       "0       2853.421949\n",
       "1       2890.843561\n",
       "2       3254.112568\n",
       "3       3052.752300\n",
       "4       5259.727676\n",
       "...             ...\n",
       "13480   8450.577444\n",
       "13481  14063.204242\n",
       "13482   8071.627547\n",
       "13483    599.114436\n",
       "13484   1045.327025\n",
       "\n",
       "[13485 rows x 1 columns]"
      ]
     },
     "execution_count": 448,
     "metadata": {},
     "output_type": "execute_result"
    }
   ],
   "source": [
    "test3"
   ]
  },
  {
   "cell_type": "code",
   "execution_count": 449,
   "id": "e1cbe003",
   "metadata": {},
   "outputs": [],
   "source": [
    "test3=test3.reset_index()"
   ]
  },
  {
   "cell_type": "code",
   "execution_count": 450,
   "id": "d56a4fcd",
   "metadata": {},
   "outputs": [
    {
     "data": {
      "text/html": [
       "<div>\n",
       "<style scoped>\n",
       "    .dataframe tbody tr th:only-of-type {\n",
       "        vertical-align: middle;\n",
       "    }\n",
       "\n",
       "    .dataframe tbody tr th {\n",
       "        vertical-align: top;\n",
       "    }\n",
       "\n",
       "    .dataframe thead th {\n",
       "        text-align: right;\n",
       "    }\n",
       "</style>\n",
       "<table border=\"1\" class=\"dataframe\">\n",
       "  <thead>\n",
       "    <tr style=\"text-align: right;\">\n",
       "      <th></th>\n",
       "      <th>index</th>\n",
       "      <th>price</th>\n",
       "    </tr>\n",
       "  </thead>\n",
       "  <tbody>\n",
       "    <tr>\n",
       "      <th>0</th>\n",
       "      <td>0</td>\n",
       "      <td>2853.421949</td>\n",
       "    </tr>\n",
       "    <tr>\n",
       "      <th>1</th>\n",
       "      <td>1</td>\n",
       "      <td>2890.843561</td>\n",
       "    </tr>\n",
       "    <tr>\n",
       "      <th>2</th>\n",
       "      <td>2</td>\n",
       "      <td>3254.112568</td>\n",
       "    </tr>\n",
       "    <tr>\n",
       "      <th>3</th>\n",
       "      <td>3</td>\n",
       "      <td>3052.752300</td>\n",
       "    </tr>\n",
       "    <tr>\n",
       "      <th>4</th>\n",
       "      <td>4</td>\n",
       "      <td>5259.727676</td>\n",
       "    </tr>\n",
       "    <tr>\n",
       "      <th>...</th>\n",
       "      <td>...</td>\n",
       "      <td>...</td>\n",
       "    </tr>\n",
       "    <tr>\n",
       "      <th>13480</th>\n",
       "      <td>13480</td>\n",
       "      <td>8450.577444</td>\n",
       "    </tr>\n",
       "    <tr>\n",
       "      <th>13481</th>\n",
       "      <td>13481</td>\n",
       "      <td>14063.204242</td>\n",
       "    </tr>\n",
       "    <tr>\n",
       "      <th>13482</th>\n",
       "      <td>13482</td>\n",
       "      <td>8071.627547</td>\n",
       "    </tr>\n",
       "    <tr>\n",
       "      <th>13483</th>\n",
       "      <td>13483</td>\n",
       "      <td>599.114436</td>\n",
       "    </tr>\n",
       "    <tr>\n",
       "      <th>13484</th>\n",
       "      <td>13484</td>\n",
       "      <td>1045.327025</td>\n",
       "    </tr>\n",
       "  </tbody>\n",
       "</table>\n",
       "<p>13485 rows × 2 columns</p>\n",
       "</div>"
      ],
      "text/plain": [
       "       index         price\n",
       "0          0   2853.421949\n",
       "1          1   2890.843561\n",
       "2          2   3254.112568\n",
       "3          3   3052.752300\n",
       "4          4   5259.727676\n",
       "...      ...           ...\n",
       "13480  13480   8450.577444\n",
       "13481  13481  14063.204242\n",
       "13482  13482   8071.627547\n",
       "13483  13483    599.114436\n",
       "13484  13484   1045.327025\n",
       "\n",
       "[13485 rows x 2 columns]"
      ]
     },
     "execution_count": 450,
     "metadata": {},
     "output_type": "execute_result"
    }
   ],
   "source": [
    "test3"
   ]
  },
  {
   "cell_type": "code",
   "execution_count": 451,
   "id": "c3498448",
   "metadata": {},
   "outputs": [],
   "source": [
    "test3=test3.rename(columns={'index':'id'})"
   ]
  },
  {
   "cell_type": "code",
   "execution_count": 452,
   "id": "081780eb",
   "metadata": {},
   "outputs": [
    {
     "data": {
      "text/html": [
       "<div>\n",
       "<style scoped>\n",
       "    .dataframe tbody tr th:only-of-type {\n",
       "        vertical-align: middle;\n",
       "    }\n",
       "\n",
       "    .dataframe tbody tr th {\n",
       "        vertical-align: top;\n",
       "    }\n",
       "\n",
       "    .dataframe thead th {\n",
       "        text-align: right;\n",
       "    }\n",
       "</style>\n",
       "<table border=\"1\" class=\"dataframe\">\n",
       "  <thead>\n",
       "    <tr style=\"text-align: right;\">\n",
       "      <th></th>\n",
       "      <th>id</th>\n",
       "      <th>price</th>\n",
       "    </tr>\n",
       "  </thead>\n",
       "  <tbody>\n",
       "    <tr>\n",
       "      <th>0</th>\n",
       "      <td>0</td>\n",
       "      <td>2853.421949</td>\n",
       "    </tr>\n",
       "    <tr>\n",
       "      <th>1</th>\n",
       "      <td>1</td>\n",
       "      <td>2890.843561</td>\n",
       "    </tr>\n",
       "    <tr>\n",
       "      <th>2</th>\n",
       "      <td>2</td>\n",
       "      <td>3254.112568</td>\n",
       "    </tr>\n",
       "    <tr>\n",
       "      <th>3</th>\n",
       "      <td>3</td>\n",
       "      <td>3052.752300</td>\n",
       "    </tr>\n",
       "    <tr>\n",
       "      <th>4</th>\n",
       "      <td>4</td>\n",
       "      <td>5259.727676</td>\n",
       "    </tr>\n",
       "    <tr>\n",
       "      <th>...</th>\n",
       "      <td>...</td>\n",
       "      <td>...</td>\n",
       "    </tr>\n",
       "    <tr>\n",
       "      <th>13480</th>\n",
       "      <td>13480</td>\n",
       "      <td>8450.577444</td>\n",
       "    </tr>\n",
       "    <tr>\n",
       "      <th>13481</th>\n",
       "      <td>13481</td>\n",
       "      <td>14063.204242</td>\n",
       "    </tr>\n",
       "    <tr>\n",
       "      <th>13482</th>\n",
       "      <td>13482</td>\n",
       "      <td>8071.627547</td>\n",
       "    </tr>\n",
       "    <tr>\n",
       "      <th>13483</th>\n",
       "      <td>13483</td>\n",
       "      <td>599.114436</td>\n",
       "    </tr>\n",
       "    <tr>\n",
       "      <th>13484</th>\n",
       "      <td>13484</td>\n",
       "      <td>1045.327025</td>\n",
       "    </tr>\n",
       "  </tbody>\n",
       "</table>\n",
       "<p>13485 rows × 2 columns</p>\n",
       "</div>"
      ],
      "text/plain": [
       "          id         price\n",
       "0          0   2853.421949\n",
       "1          1   2890.843561\n",
       "2          2   3254.112568\n",
       "3          3   3052.752300\n",
       "4          4   5259.727676\n",
       "...      ...           ...\n",
       "13480  13480   8450.577444\n",
       "13481  13481  14063.204242\n",
       "13482  13482   8071.627547\n",
       "13483  13483    599.114436\n",
       "13484  13484   1045.327025\n",
       "\n",
       "[13485 rows x 2 columns]"
      ]
     },
     "execution_count": 452,
     "metadata": {},
     "output_type": "execute_result"
    }
   ],
   "source": [
    "test3"
   ]
  },
  {
   "cell_type": "code",
   "execution_count": 453,
   "id": "e397c801",
   "metadata": {},
   "outputs": [],
   "source": [
    "test3.to_csv('preddefinitiva2.csv', index=False)"
   ]
  },
  {
   "cell_type": "code",
   "execution_count": null,
   "id": "6aaadb92",
   "metadata": {},
   "outputs": [],
   "source": []
  }
 ],
 "metadata": {
  "kernelspec": {
   "display_name": "Ironhack",
   "language": "python",
   "name": "ironhack"
  },
  "language_info": {
   "codemirror_mode": {
    "name": "ipython",
    "version": 3
   },
   "file_extension": ".py",
   "mimetype": "text/x-python",
   "name": "python",
   "nbconvert_exporter": "python",
   "pygments_lexer": "ipython3",
   "version": "3.8.12"
  }
 },
 "nbformat": 4,
 "nbformat_minor": 5
}
